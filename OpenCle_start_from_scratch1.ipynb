{
 "cells": [
  {
   "cell_type": "code",
   "execution_count": 2,
   "metadata": {
    "collapsed": true
   },
   "outputs": [],
   "source": [
    "import pandas as pd\n",
    "import matplotlib.pyplot as plt\n",
    "import numpy as np"
   ]
  },
  {
   "cell_type": "code",
   "execution_count": 3,
   "metadata": {
    "collapsed": false
   },
   "outputs": [],
   "source": [
    "%matplotlib inline"
   ]
  },
  {
   "cell_type": "code",
   "execution_count": 4,
   "metadata": {
    "collapsed": false
   },
   "outputs": [
    {
     "data": {
      "text/html": [
       "<style>body {\n",
       "    margin: 0;\n",
       "    font-family: Helvetica;\n",
       "}\n",
       "table.dataframe {\n",
       "    border-collapse: collapse;\n",
       "    border: none;\n",
       "}\n",
       "table.dataframe tr {\n",
       "    border: none;\n",
       "}\n",
       "table.dataframe td, table.dataframe th {\n",
       "    margin: 0;\n",
       "    border: 1px solid white;\n",
       "    padding-left: 0.25em;\n",
       "    padding-right: 0.25em;\n",
       "}\n",
       "table.dataframe th:not(:empty) {\n",
       "    background-color: #fec;\n",
       "    text-align: left;\n",
       "    font-weight: normal;\n",
       "}\n",
       "table.dataframe tr:nth-child(2) th:empty {\n",
       "    border-left: none;\n",
       "    border-right: 1px dashed #888;\n",
       "}\n",
       "table.dataframe td {\n",
       "    border: 2px solid #ccf;\n",
       "    background-color: #f4f4ff;\n",
       "}h3 {\n",
       "    color: white;\n",
       "    background-color: black;\n",
       "    padding: 0.5em;\n",
       "}  </style>"
      ],
      "text/plain": [
       "<IPython.core.display.HTML object>"
      ]
     },
     "execution_count": 4,
     "metadata": {},
     "output_type": "execute_result"
    }
   ],
   "source": [
    "from IPython.core.display import HTML\n",
    "css = open('style-table.css').read() + open('style-notebook.css').read()\n",
    "HTML('<style>{}</style>'.format(css))"
   ]
  },
  {
   "cell_type": "code",
   "execution_count": 5,
   "metadata": {
    "collapsed": false
   },
   "outputs": [
    {
     "data": {
      "text/plain": [
       "'/Users/TakuyaSakaguchi/Jupyter_Python3/OpenCle'"
      ]
     },
     "execution_count": 5,
     "metadata": {},
     "output_type": "execute_result"
    }
   ],
   "source": [
    "%pwd"
   ]
  },
  {
   "cell_type": "code",
   "execution_count": 5,
   "metadata": {
    "collapsed": true
   },
   "outputs": [],
   "source": [
    "df_300k = pd.read_csv(\"300k_addresses.csv\")"
   ]
  },
  {
   "cell_type": "code",
   "execution_count": 6,
   "metadata": {
    "collapsed": false
   },
   "outputs": [
    {
     "data": {
      "text/html": [
       "<div>\n",
       "<table border=\"1\" class=\"dataframe\">\n",
       "  <thead>\n",
       "    <tr style=\"text-align: right;\">\n",
       "      <th></th>\n",
       "      <th>addr_lat</th>\n",
       "      <th>addr_lon</th>\n",
       "    </tr>\n",
       "  </thead>\n",
       "  <tbody>\n",
       "    <tr>\n",
       "      <th>0</th>\n",
       "      <td>41.200</td>\n",
       "      <td>-82</td>\n",
       "    </tr>\n",
       "    <tr>\n",
       "      <th>1</th>\n",
       "      <td>41.201</td>\n",
       "      <td>-82</td>\n",
       "    </tr>\n",
       "    <tr>\n",
       "      <th>2</th>\n",
       "      <td>41.202</td>\n",
       "      <td>-82</td>\n",
       "    </tr>\n",
       "    <tr>\n",
       "      <th>3</th>\n",
       "      <td>41.203</td>\n",
       "      <td>-82</td>\n",
       "    </tr>\n",
       "    <tr>\n",
       "      <th>4</th>\n",
       "      <td>41.204</td>\n",
       "      <td>-82</td>\n",
       "    </tr>\n",
       "  </tbody>\n",
       "</table>\n",
       "</div>"
      ],
      "text/plain": [
       "   addr_lat  addr_lon\n",
       "0    41.200       -82\n",
       "1    41.201       -82\n",
       "2    41.202       -82\n",
       "3    41.203       -82\n",
       "4    41.204       -82"
      ]
     },
     "execution_count": 6,
     "metadata": {},
     "output_type": "execute_result"
    }
   ],
   "source": [
    "df_300k.head()"
   ]
  },
  {
   "cell_type": "code",
   "execution_count": 7,
   "metadata": {
    "collapsed": true
   },
   "outputs": [],
   "source": [
    "from geopy.distance import vincenty\n",
    "\n",
    "def get_distance_between_two_stops(stopId1, stopId2):\n",
    "    x = (df[df.stop_id == stopId1][\"stop_lat\"].values, df[df.stop_id == stopId1][\"stop_lon\"].values)\n",
    "\n",
    "    y = (df[df.stop_id == stopId2][\"stop_lat\"].values, df[df.stop_id == stopId2][\"stop_lon\"].values)\n",
    "\n",
    "    return vincenty(x, y).miles"
   ]
  },
  {
   "cell_type": "code",
   "execution_count": 8,
   "metadata": {
    "collapsed": true
   },
   "outputs": [],
   "source": [
    "def dataframe_of_close_stops(given_lat, given_lon, df, given_range=0.007225):\n",
    "    selectedDf = df[(df.stop_lat > (given_lat - given_range)) \\\n",
    "                    & (df.stop_lat < (given_lat + given_range))\\\n",
    "                    &(df.stop_lon > (given_lon - given_range)) \\\n",
    "                    & (df.stop_lon < (given_lon + given_range))]\n",
    "    return selectedDf"
   ]
  },
  {
   "cell_type": "code",
   "execution_count": 9,
   "metadata": {
    "collapsed": true
   },
   "outputs": [],
   "source": [
    "df_stops = pd.read_csv(\"stops.csv\")"
   ]
  },
  {
   "cell_type": "code",
   "execution_count": 10,
   "metadata": {
    "collapsed": true
   },
   "outputs": [],
   "source": [
    "def get_number_of_close_stops(given_lat, given_lon, df, given_range=0.007225):\n",
    "    number = len(dataframe_of_close_stops(given_lat, given_lon, df, given_range))\n",
    "    return number"
   ]
  },
  {
   "cell_type": "code",
   "execution_count": 11,
   "metadata": {
    "collapsed": true
   },
   "outputs": [],
   "source": [
    "def get_distance_to_closest_bus_stop(given_lat, given_lon, df, given_range=0.007225):\n",
    "    if not get_number_of_close_stops(given_lat, given_lon, df, given_range) == 0:\n",
    "        close_stops_df = dataframe_of_close_stops(given_lat, given_lon, df, given_range)\n",
    "        close_stops_plus_distance_df = Add_distance_to_dataframe(close_stops_df,given_lat, given_lon)\n",
    "        return close_stops_plus_distance_df.loc[close_stops_plus_distance_df.distance == close_stops_plus_distance_df.distance.min()].distance\n",
    "    else:\n",
    "        return np.NaN"
   ]
  },
  {
   "cell_type": "code",
   "execution_count": 27,
   "metadata": {
    "collapsed": true
   },
   "outputs": [],
   "source": [
    "def Add_distance_to_dataframe(addr_df, destination_lat, destination_lon):\n",
    "    addr_df.index = range(0, len(addr_df))\n",
    "    for i in range(len(addr_df)):\n",
    "        addr_df.loc[i, \"distance\"] = vincenty((destination_lat, destination_lon), (addr_df.loc[i, \"stop_lat\"], addr_df.loc[i,\"stop_lon\"])).miles\n",
    "    return addr_df"
   ]
  },
  {
   "cell_type": "code",
   "execution_count": 12,
   "metadata": {
    "collapsed": false
   },
   "outputs": [
    {
     "data": {
      "text/html": [
       "<div>\n",
       "<table border=\"1\" class=\"dataframe\">\n",
       "  <thead>\n",
       "    <tr style=\"text-align: right;\">\n",
       "      <th></th>\n",
       "      <th>stop_id</th>\n",
       "      <th>stop_code</th>\n",
       "      <th>stop_name</th>\n",
       "      <th>stop_desc</th>\n",
       "      <th>stop_lat</th>\n",
       "      <th>stop_lon</th>\n",
       "      <th>zone_id</th>\n",
       "      <th>stop_url</th>\n",
       "      <th>location_type</th>\n",
       "      <th>parent_station</th>\n",
       "    </tr>\n",
       "  </thead>\n",
       "  <tbody>\n",
       "    <tr>\n",
       "      <th>0</th>\n",
       "      <td>00001</td>\n",
       "      <td>NaN</td>\n",
       "      <td>COLUMBUS ST &amp; BROADWAY</td>\n",
       "      <td>NaN</td>\n",
       "      <td>41.392864</td>\n",
       "      <td>-81.536557</td>\n",
       "      <td>NaN</td>\n",
       "      <td>NaN</td>\n",
       "      <td>0</td>\n",
       "      <td>NaN</td>\n",
       "    </tr>\n",
       "    <tr>\n",
       "      <th>1</th>\n",
       "      <td>00002</td>\n",
       "      <td>NaN</td>\n",
       "      <td>10800 BROOKPARK RD (HOME DEPOT)</td>\n",
       "      <td>NaN</td>\n",
       "      <td>41.418556</td>\n",
       "      <td>-81.760788</td>\n",
       "      <td>NaN</td>\n",
       "      <td>NaN</td>\n",
       "      <td>0</td>\n",
       "      <td>NaN</td>\n",
       "    </tr>\n",
       "    <tr>\n",
       "      <th>2</th>\n",
       "      <td>00004</td>\n",
       "      <td>NaN</td>\n",
       "      <td>EUCLID AV &amp; E 101ST ST</td>\n",
       "      <td>NaN</td>\n",
       "      <td>41.503712</td>\n",
       "      <td>-81.617399</td>\n",
       "      <td>NaN</td>\n",
       "      <td>NaN</td>\n",
       "      <td>0</td>\n",
       "      <td>NaN</td>\n",
       "    </tr>\n",
       "    <tr>\n",
       "      <th>3</th>\n",
       "      <td>00005</td>\n",
       "      <td>NaN</td>\n",
       "      <td>10081 W RIDGEWOOD DR</td>\n",
       "      <td>NaN</td>\n",
       "      <td>41.384525</td>\n",
       "      <td>-81.755926</td>\n",
       "      <td>NaN</td>\n",
       "      <td>NaN</td>\n",
       "      <td>0</td>\n",
       "      <td>NaN</td>\n",
       "    </tr>\n",
       "    <tr>\n",
       "      <th>4</th>\n",
       "      <td>00014</td>\n",
       "      <td>NaN</td>\n",
       "      <td>102 PROSPECT AV W</td>\n",
       "      <td>NaN</td>\n",
       "      <td>41.498030</td>\n",
       "      <td>-81.692012</td>\n",
       "      <td>NaN</td>\n",
       "      <td>NaN</td>\n",
       "      <td>0</td>\n",
       "      <td>NaN</td>\n",
       "    </tr>\n",
       "  </tbody>\n",
       "</table>\n",
       "</div>"
      ],
      "text/plain": [
       "  stop_id  stop_code                        stop_name  stop_desc   stop_lat  \\\n",
       "0   00001        NaN           COLUMBUS ST & BROADWAY        NaN  41.392864   \n",
       "1   00002        NaN  10800 BROOKPARK RD (HOME DEPOT)        NaN  41.418556   \n",
       "2   00004        NaN           EUCLID AV & E 101ST ST        NaN  41.503712   \n",
       "3   00005        NaN             10081 W RIDGEWOOD DR        NaN  41.384525   \n",
       "4   00014        NaN                102 PROSPECT AV W        NaN  41.498030   \n",
       "\n",
       "    stop_lon  zone_id  stop_url  location_type parent_station  \n",
       "0 -81.536557      NaN       NaN              0            NaN  \n",
       "1 -81.760788      NaN       NaN              0            NaN  \n",
       "2 -81.617399      NaN       NaN              0            NaN  \n",
       "3 -81.755926      NaN       NaN              0            NaN  \n",
       "4 -81.692012      NaN       NaN              0            NaN  "
      ]
     },
     "execution_count": 12,
     "metadata": {},
     "output_type": "execute_result"
    }
   ],
   "source": [
    "df_stops.head()"
   ]
  },
  {
   "cell_type": "code",
   "execution_count": 13,
   "metadata": {
    "collapsed": true
   },
   "outputs": [],
   "source": [
    "def get_distance_and_coordinates_to_closest_bus_stop(given_lat, given_lon, df, given_range=0.007225):\n",
    "    if not get_number_of_close_stops(given_lat, given_lon, df, given_range) == 0:\n",
    "        close_stops_df = dataframe_of_close_stops(given_lat, given_lon, df, given_range)\n",
    "        close_stops_plus_distance_df = Add_distance_to_dataframe(close_stops_df,given_lat, given_lon)\n",
    "        distance = close_stops_plus_distance_df.loc[close_stops_plus_distance_df.distance == close_stops_plus_distance_df.distance.min()].distance\n",
    "        stop_lat = close_stops_plus_distance_df.loc[close_stops_plus_distance_df.distance == close_stops_plus_distance_df.distance.min()].stop_lat\n",
    "        stop_lon = close_stops_plus_distance_df.loc[close_stops_plus_distance_df.distance == close_stops_plus_distance_df.distance.min()].stop_lon\n",
    "        return distance, stop_lat, stop_lon\n",
    "    else:\n",
    "        return np.NaN"
   ]
  },
  {
   "cell_type": "code",
   "execution_count": 14,
   "metadata": {
    "collapsed": false
   },
   "outputs": [
    {
     "ename": "KeyboardInterrupt",
     "evalue": "",
     "output_type": "error",
     "traceback": [
      "\u001b[0;31m---------------------------------------------------------------------------\u001b[0m",
      "\u001b[0;31mKeyboardInterrupt\u001b[0m                         Traceback (most recent call last)",
      "\u001b[0;32m<ipython-input-14-295b1c1cbebb>\u001b[0m in \u001b[0;36m<module>\u001b[0;34m()\u001b[0m\n\u001b[1;32m      1\u001b[0m \u001b[0;32mfor\u001b[0m \u001b[0mi\u001b[0m \u001b[0;32min\u001b[0m \u001b[0mrange\u001b[0m\u001b[0;34m(\u001b[0m\u001b[0mlen\u001b[0m\u001b[0;34m(\u001b[0m\u001b[0mdf_300k\u001b[0m\u001b[0;34m)\u001b[0m\u001b[0;34m)\u001b[0m\u001b[0;34m:\u001b[0m\u001b[0;34m\u001b[0m\u001b[0m\n\u001b[0;32m----> 2\u001b[0;31m     \u001b[0mx\u001b[0m\u001b[0;34m=\u001b[0m \u001b[0mget_number_of_close_stops\u001b[0m\u001b[0;34m(\u001b[0m\u001b[0mdf_300k\u001b[0m\u001b[0;34m.\u001b[0m\u001b[0maddr_lat\u001b[0m\u001b[0;34m[\u001b[0m\u001b[0mi\u001b[0m\u001b[0;34m]\u001b[0m\u001b[0;34m,\u001b[0m \u001b[0mdf_300k\u001b[0m\u001b[0;34m.\u001b[0m\u001b[0maddr_lon\u001b[0m\u001b[0;34m[\u001b[0m\u001b[0mi\u001b[0m\u001b[0;34m]\u001b[0m\u001b[0;34m,\u001b[0m \u001b[0mdf_stops\u001b[0m\u001b[0;34m)\u001b[0m\u001b[0;34m\u001b[0m\u001b[0m\n\u001b[0m\u001b[1;32m      3\u001b[0m     \u001b[0mdf_300k\u001b[0m\u001b[0;34m.\u001b[0m\u001b[0mset_value\u001b[0m\u001b[0;34m(\u001b[0m\u001b[0mi\u001b[0m\u001b[0;34m,\u001b[0m \u001b[0;34m\"surrounding_stops\"\u001b[0m\u001b[0;34m,\u001b[0m \u001b[0mx\u001b[0m\u001b[0;34m)\u001b[0m\u001b[0;34m\u001b[0m\u001b[0m\n",
      "\u001b[0;32m<ipython-input-10-e91d169baf3b>\u001b[0m in \u001b[0;36mget_number_of_close_stops\u001b[0;34m(given_lat, given_lon, df, given_range)\u001b[0m\n\u001b[1;32m      1\u001b[0m \u001b[0;32mdef\u001b[0m \u001b[0mget_number_of_close_stops\u001b[0m\u001b[0;34m(\u001b[0m\u001b[0mgiven_lat\u001b[0m\u001b[0;34m,\u001b[0m \u001b[0mgiven_lon\u001b[0m\u001b[0;34m,\u001b[0m \u001b[0mdf\u001b[0m\u001b[0;34m,\u001b[0m \u001b[0mgiven_range\u001b[0m\u001b[0;34m=\u001b[0m\u001b[0;36m0.007225\u001b[0m\u001b[0;34m)\u001b[0m\u001b[0;34m:\u001b[0m\u001b[0;34m\u001b[0m\u001b[0m\n\u001b[0;32m----> 2\u001b[0;31m     \u001b[0mnumber\u001b[0m \u001b[0;34m=\u001b[0m \u001b[0mlen\u001b[0m\u001b[0;34m(\u001b[0m\u001b[0mdataframe_of_close_stops\u001b[0m\u001b[0;34m(\u001b[0m\u001b[0mgiven_lat\u001b[0m\u001b[0;34m,\u001b[0m \u001b[0mgiven_lon\u001b[0m\u001b[0;34m,\u001b[0m \u001b[0mdf\u001b[0m\u001b[0;34m,\u001b[0m \u001b[0mgiven_range\u001b[0m\u001b[0;34m)\u001b[0m\u001b[0;34m)\u001b[0m\u001b[0;34m\u001b[0m\u001b[0m\n\u001b[0m\u001b[1;32m      3\u001b[0m     \u001b[0;32mreturn\u001b[0m \u001b[0mnumber\u001b[0m\u001b[0;34m\u001b[0m\u001b[0m\n",
      "\u001b[0;32m<ipython-input-8-1e06247b8805>\u001b[0m in \u001b[0;36mdataframe_of_close_stops\u001b[0;34m(given_lat, given_lon, df, given_range)\u001b[0m\n\u001b[1;32m      1\u001b[0m \u001b[0;32mdef\u001b[0m \u001b[0mdataframe_of_close_stops\u001b[0m\u001b[0;34m(\u001b[0m\u001b[0mgiven_lat\u001b[0m\u001b[0;34m,\u001b[0m \u001b[0mgiven_lon\u001b[0m\u001b[0;34m,\u001b[0m \u001b[0mdf\u001b[0m\u001b[0;34m,\u001b[0m \u001b[0mgiven_range\u001b[0m\u001b[0;34m=\u001b[0m\u001b[0;36m0.007225\u001b[0m\u001b[0;34m)\u001b[0m\u001b[0;34m:\u001b[0m\u001b[0;34m\u001b[0m\u001b[0m\n\u001b[0;32m----> 2\u001b[0;31m     \u001b[0mselectedDf\u001b[0m \u001b[0;34m=\u001b[0m \u001b[0mdf\u001b[0m\u001b[0;34m[\u001b[0m\u001b[0;34m(\u001b[0m\u001b[0mdf\u001b[0m\u001b[0;34m.\u001b[0m\u001b[0mstop_lat\u001b[0m \u001b[0;34m>\u001b[0m \u001b[0;34m(\u001b[0m\u001b[0mgiven_lat\u001b[0m \u001b[0;34m-\u001b[0m \u001b[0mgiven_range\u001b[0m\u001b[0;34m)\u001b[0m\u001b[0;34m)\u001b[0m                     \u001b[0;34m&\u001b[0m \u001b[0;34m(\u001b[0m\u001b[0mdf\u001b[0m\u001b[0;34m.\u001b[0m\u001b[0mstop_lat\u001b[0m \u001b[0;34m<\u001b[0m \u001b[0;34m(\u001b[0m\u001b[0mgiven_lat\u001b[0m \u001b[0;34m+\u001b[0m \u001b[0mgiven_range\u001b[0m\u001b[0;34m)\u001b[0m\u001b[0;34m)\u001b[0m                    \u001b[0;34m&\u001b[0m\u001b[0;34m(\u001b[0m\u001b[0mdf\u001b[0m\u001b[0;34m.\u001b[0m\u001b[0mstop_lon\u001b[0m \u001b[0;34m>\u001b[0m \u001b[0;34m(\u001b[0m\u001b[0mgiven_lon\u001b[0m \u001b[0;34m-\u001b[0m \u001b[0mgiven_range\u001b[0m\u001b[0;34m)\u001b[0m\u001b[0;34m)\u001b[0m                     \u001b[0;34m&\u001b[0m \u001b[0;34m(\u001b[0m\u001b[0mdf\u001b[0m\u001b[0;34m.\u001b[0m\u001b[0mstop_lon\u001b[0m \u001b[0;34m<\u001b[0m \u001b[0;34m(\u001b[0m\u001b[0mgiven_lon\u001b[0m \u001b[0;34m+\u001b[0m \u001b[0mgiven_range\u001b[0m\u001b[0;34m)\u001b[0m\u001b[0;34m)\u001b[0m\u001b[0;34m]\u001b[0m\u001b[0;34m\u001b[0m\u001b[0m\n\u001b[0m\u001b[1;32m      3\u001b[0m     \u001b[0;32mreturn\u001b[0m \u001b[0mselectedDf\u001b[0m\u001b[0;34m\u001b[0m\u001b[0m\n",
      "\u001b[0;32m//anaconda/lib/python3.4/site-packages/pandas/core/ops.py\u001b[0m in \u001b[0;36mwrapper\u001b[0;34m(self, other, axis)\u001b[0m\n\u001b[1;32m    733\u001b[0m \u001b[0;34m\u001b[0m\u001b[0m\n\u001b[1;32m    734\u001b[0m         res = pd.Series(res, index=self.index, name=self.name,\n\u001b[0;32m--> 735\u001b[0;31m                         dtype='bool')\n\u001b[0m\u001b[1;32m    736\u001b[0m         \u001b[0;32mreturn\u001b[0m \u001b[0mres\u001b[0m\u001b[0;34m\u001b[0m\u001b[0m\n\u001b[1;32m    737\u001b[0m     \u001b[0;32mreturn\u001b[0m \u001b[0mwrapper\u001b[0m\u001b[0;34m\u001b[0m\u001b[0m\n",
      "\u001b[0;32m//anaconda/lib/python3.4/site-packages/pandas/core/series.py\u001b[0m in \u001b[0;36m__init__\u001b[0;34m(self, data, index, dtype, name, copy, fastpath)\u001b[0m\n\u001b[1;32m    223\u001b[0m             \u001b[0;32melse\u001b[0m\u001b[0;34m:\u001b[0m\u001b[0;34m\u001b[0m\u001b[0m\n\u001b[1;32m    224\u001b[0m                 data = _sanitize_array(data, index, dtype, copy,\n\u001b[0;32m--> 225\u001b[0;31m                                        raise_cast_failure=True)\n\u001b[0m\u001b[1;32m    226\u001b[0m \u001b[0;34m\u001b[0m\u001b[0m\n\u001b[1;32m    227\u001b[0m                 \u001b[0mdata\u001b[0m \u001b[0;34m=\u001b[0m \u001b[0mSingleBlockManager\u001b[0m\u001b[0;34m(\u001b[0m\u001b[0mdata\u001b[0m\u001b[0;34m,\u001b[0m \u001b[0mindex\u001b[0m\u001b[0;34m,\u001b[0m \u001b[0mfastpath\u001b[0m\u001b[0;34m=\u001b[0m\u001b[0;32mTrue\u001b[0m\u001b[0;34m)\u001b[0m\u001b[0;34m\u001b[0m\u001b[0m\n",
      "\u001b[0;32m//anaconda/lib/python3.4/site-packages/pandas/core/series.py\u001b[0m in \u001b[0;36m_sanitize_array\u001b[0;34m(data, index, dtype, copy, raise_cast_failure)\u001b[0m\n\u001b[1;32m   2804\u001b[0m                     \u001b[0msubarr\u001b[0m \u001b[0;34m=\u001b[0m \u001b[0mdata\u001b[0m\u001b[0;34m.\u001b[0m\u001b[0mcopy\u001b[0m\u001b[0;34m(\u001b[0m\u001b[0;34m)\u001b[0m\u001b[0;34m\u001b[0m\u001b[0m\n\u001b[1;32m   2805\u001b[0m             \u001b[0;32melse\u001b[0m\u001b[0;34m:\u001b[0m\u001b[0;34m\u001b[0m\u001b[0m\n\u001b[0;32m-> 2806\u001b[0;31m                 \u001b[0msubarr\u001b[0m \u001b[0;34m=\u001b[0m \u001b[0m_try_cast\u001b[0m\u001b[0;34m(\u001b[0m\u001b[0mdata\u001b[0m\u001b[0;34m,\u001b[0m \u001b[0;32mTrue\u001b[0m\u001b[0;34m)\u001b[0m\u001b[0;34m\u001b[0m\u001b[0m\n\u001b[0m\u001b[1;32m   2807\u001b[0m         \u001b[0;32melif\u001b[0m \u001b[0misinstance\u001b[0m\u001b[0;34m(\u001b[0m\u001b[0mdata\u001b[0m\u001b[0;34m,\u001b[0m \u001b[0mIndex\u001b[0m\u001b[0;34m)\u001b[0m\u001b[0;34m:\u001b[0m\u001b[0;34m\u001b[0m\u001b[0m\n\u001b[1;32m   2808\u001b[0m             \u001b[0;31m# don't coerce Index types\u001b[0m\u001b[0;34m\u001b[0m\u001b[0;34m\u001b[0m\u001b[0m\n",
      "\u001b[0;32m//anaconda/lib/python3.4/site-packages/pandas/core/series.py\u001b[0m in \u001b[0;36m_try_cast\u001b[0;34m(arr, take_fast_path)\u001b[0m\n\u001b[1;32m   2780\u001b[0m         \u001b[0;32mtry\u001b[0m\u001b[0;34m:\u001b[0m\u001b[0;34m\u001b[0m\u001b[0m\n\u001b[1;32m   2781\u001b[0m             \u001b[0msubarr\u001b[0m \u001b[0;34m=\u001b[0m \u001b[0m_possibly_cast_to_datetime\u001b[0m\u001b[0;34m(\u001b[0m\u001b[0marr\u001b[0m\u001b[0;34m,\u001b[0m \u001b[0mdtype\u001b[0m\u001b[0;34m)\u001b[0m\u001b[0;34m\u001b[0m\u001b[0m\n\u001b[0;32m-> 2782\u001b[0;31m             \u001b[0;32mif\u001b[0m \u001b[0;32mnot\u001b[0m \u001b[0mis_internal_type\u001b[0m\u001b[0;34m(\u001b[0m\u001b[0msubarr\u001b[0m\u001b[0;34m)\u001b[0m\u001b[0;34m:\u001b[0m\u001b[0;34m\u001b[0m\u001b[0m\n\u001b[0m\u001b[1;32m   2783\u001b[0m                 \u001b[0msubarr\u001b[0m \u001b[0;34m=\u001b[0m \u001b[0mnp\u001b[0m\u001b[0;34m.\u001b[0m\u001b[0marray\u001b[0m\u001b[0;34m(\u001b[0m\u001b[0msubarr\u001b[0m\u001b[0;34m,\u001b[0m \u001b[0mdtype\u001b[0m\u001b[0;34m=\u001b[0m\u001b[0mdtype\u001b[0m\u001b[0;34m,\u001b[0m \u001b[0mcopy\u001b[0m\u001b[0;34m=\u001b[0m\u001b[0mcopy\u001b[0m\u001b[0;34m)\u001b[0m\u001b[0;34m\u001b[0m\u001b[0m\n\u001b[1;32m   2784\u001b[0m         \u001b[0;32mexcept\u001b[0m \u001b[0;34m(\u001b[0m\u001b[0mValueError\u001b[0m\u001b[0;34m,\u001b[0m \u001b[0mTypeError\u001b[0m\u001b[0;34m)\u001b[0m\u001b[0;34m:\u001b[0m\u001b[0;34m\u001b[0m\u001b[0m\n",
      "\u001b[0;32m//anaconda/lib/python3.4/site-packages/pandas/core/common.py\u001b[0m in \u001b[0;36mis_internal_type\u001b[0;34m(value)\u001b[0m\n\u001b[1;32m   2287\u001b[0m     \u001b[0mthese\u001b[0m \u001b[0mare\u001b[0m \u001b[0minternal\u001b[0m \u001b[0mklasses\u001b[0m \u001b[0mthat\u001b[0m \u001b[0mwe\u001b[0m \u001b[0mrepresent\u001b[0m \u001b[0;34m(\u001b[0m\u001b[0;32mand\u001b[0m \u001b[0mdon\u001b[0m\u001b[0;31m'\u001b[0m\u001b[0mt\u001b[0m \u001b[0muse\u001b[0m \u001b[0ma\u001b[0m \u001b[0mnp\u001b[0m\u001b[0;34m.\u001b[0m\u001b[0marray\u001b[0m\u001b[0;34m)\u001b[0m\u001b[0;34m\u001b[0m\u001b[0m\n\u001b[1;32m   2288\u001b[0m     \"\"\"\n\u001b[0;32m-> 2289\u001b[0;31m     \u001b[0;32mif\u001b[0m \u001b[0mis_categorical\u001b[0m\u001b[0;34m(\u001b[0m\u001b[0mvalue\u001b[0m\u001b[0;34m)\u001b[0m\u001b[0;34m:\u001b[0m\u001b[0;34m\u001b[0m\u001b[0m\n\u001b[0m\u001b[1;32m   2290\u001b[0m         \u001b[0;32mreturn\u001b[0m \u001b[0;32mTrue\u001b[0m\u001b[0;34m\u001b[0m\u001b[0m\n\u001b[1;32m   2291\u001b[0m     \u001b[0;32melif\u001b[0m \u001b[0mis_sparse\u001b[0m\u001b[0;34m(\u001b[0m\u001b[0mvalue\u001b[0m\u001b[0;34m)\u001b[0m\u001b[0;34m:\u001b[0m\u001b[0;34m\u001b[0m\u001b[0m\n",
      "\u001b[0;32m//anaconda/lib/python3.4/site-packages/pandas/core/common.py\u001b[0m in \u001b[0;36mis_categorical\u001b[0;34m(array)\u001b[0m\n\u001b[1;32m   2297\u001b[0m \u001b[0;32mdef\u001b[0m \u001b[0mis_categorical\u001b[0m\u001b[0;34m(\u001b[0m\u001b[0marray\u001b[0m\u001b[0;34m)\u001b[0m\u001b[0;34m:\u001b[0m\u001b[0;34m\u001b[0m\u001b[0m\n\u001b[1;32m   2298\u001b[0m     \u001b[0;34m\"\"\" return if we are a categorical possibility \"\"\"\u001b[0m\u001b[0;34m\u001b[0m\u001b[0m\n\u001b[0;32m-> 2299\u001b[0;31m     \u001b[0;32mreturn\u001b[0m \u001b[0misinstance\u001b[0m\u001b[0;34m(\u001b[0m\u001b[0marray\u001b[0m\u001b[0;34m,\u001b[0m \u001b[0mABCCategorical\u001b[0m\u001b[0;34m)\u001b[0m \u001b[0;32mor\u001b[0m \u001b[0mis_categorical_dtype\u001b[0m\u001b[0;34m(\u001b[0m\u001b[0marray\u001b[0m\u001b[0;34m)\u001b[0m\u001b[0;34m\u001b[0m\u001b[0m\n\u001b[0m\u001b[1;32m   2300\u001b[0m \u001b[0;34m\u001b[0m\u001b[0m\n\u001b[1;32m   2301\u001b[0m \u001b[0;32mdef\u001b[0m \u001b[0mis_categorical_dtype\u001b[0m\u001b[0;34m(\u001b[0m\u001b[0marr_or_dtype\u001b[0m\u001b[0;34m)\u001b[0m\u001b[0;34m:\u001b[0m\u001b[0;34m\u001b[0m\u001b[0m\n",
      "\u001b[0;32m//anaconda/lib/python3.4/site-packages/pandas/core/common.py\u001b[0m in \u001b[0;36m_check\u001b[0;34m(cls, inst)\u001b[0m\n\u001b[1;32m     69\u001b[0m     \u001b[0;34m@\u001b[0m\u001b[0mclassmethod\u001b[0m\u001b[0;34m\u001b[0m\u001b[0m\n\u001b[1;32m     70\u001b[0m     \u001b[0;32mdef\u001b[0m \u001b[0m_check\u001b[0m\u001b[0;34m(\u001b[0m\u001b[0mcls\u001b[0m\u001b[0;34m,\u001b[0m \u001b[0minst\u001b[0m\u001b[0;34m)\u001b[0m\u001b[0;34m:\u001b[0m\u001b[0;34m\u001b[0m\u001b[0m\n\u001b[0;32m---> 71\u001b[0;31m         \u001b[0;32mreturn\u001b[0m \u001b[0mgetattr\u001b[0m\u001b[0;34m(\u001b[0m\u001b[0minst\u001b[0m\u001b[0;34m,\u001b[0m \u001b[0mattr\u001b[0m\u001b[0;34m,\u001b[0m \u001b[0;34m'_typ'\u001b[0m\u001b[0;34m)\u001b[0m \u001b[0;32min\u001b[0m \u001b[0mcomp\u001b[0m\u001b[0;34m\u001b[0m\u001b[0m\n\u001b[0m\u001b[1;32m     72\u001b[0m     dct = dict(__instancecheck__=_check,\n\u001b[1;32m     73\u001b[0m                __subclasscheck__=_check)\n",
      "\u001b[0;31mKeyboardInterrupt\u001b[0m: "
     ]
    }
   ],
   "source": [
    "for i in range(len(df_300k)):\n",
    "    x= get_number_of_close_stops(df_300k.addr_lat[i], df_300k.addr_lon[i], df_stops)\n",
    "    df_300k.set_value(i, \"surrounding_stops\", x)"
   ]
  },
  {
   "cell_type": "code",
   "execution_count": null,
   "metadata": {
    "collapsed": true
   },
   "outputs": [],
   "source": [
    "for i in range(len(df_300k)):\n",
    "    x= get_number_of_close_stops(df_300k.addr_lat[i], df_300k.addr_lon[i], df_stops,0.01445)\n",
    "    df_300k.set_value(i, \"surrounding_stops_a_mile\", x)"
   ]
  },
  {
   "cell_type": "code",
   "execution_count": null,
   "metadata": {
    "collapsed": false
   },
   "outputs": [],
   "source": [
    "df_300k.describe()"
   ]
  },
  {
   "cell_type": "code",
   "execution_count": 25,
   "metadata": {
    "collapsed": true
   },
   "outputs": [],
   "source": [
    "df_300k.to_csv(\"new300k.csv\")"
   ]
  },
  {
   "cell_type": "code",
   "execution_count": 26,
   "metadata": {
    "collapsed": true
   },
   "outputs": [],
   "source": [
    "df_selected = df_300k[df_300k.surrounding_stops_a_mile >=1]"
   ]
  },
  {
   "cell_type": "code",
   "execution_count": 27,
   "metadata": {
    "collapsed": false
   },
   "outputs": [
    {
     "data": {
      "text/html": [
       "<div>\n",
       "<table border=\"1\" class=\"dataframe\">\n",
       "  <thead>\n",
       "    <tr style=\"text-align: right;\">\n",
       "      <th></th>\n",
       "      <th>addr_lat</th>\n",
       "      <th>addr_lon</th>\n",
       "      <th>surrounding_stops</th>\n",
       "      <th>surrounding_stops_a_mile</th>\n",
       "    </tr>\n",
       "  </thead>\n",
       "  <tbody>\n",
       "    <tr>\n",
       "      <th>count</th>\n",
       "      <td>114554.000000</td>\n",
       "      <td>114554.000000</td>\n",
       "      <td>114554.000000</td>\n",
       "      <td>114554.000000</td>\n",
       "    </tr>\n",
       "    <tr>\n",
       "      <th>mean</th>\n",
       "      <td>41.438169</td>\n",
       "      <td>-81.679909</td>\n",
       "      <td>11.604885</td>\n",
       "      <td>46.410837</td>\n",
       "    </tr>\n",
       "    <tr>\n",
       "      <th>std</th>\n",
       "      <td>0.082503</td>\n",
       "      <td>0.149042</td>\n",
       "      <td>12.559817</td>\n",
       "      <td>38.970773</td>\n",
       "    </tr>\n",
       "    <tr>\n",
       "      <th>min</th>\n",
       "      <td>41.214000</td>\n",
       "      <td>-81.981000</td>\n",
       "      <td>0.000000</td>\n",
       "      <td>1.000000</td>\n",
       "    </tr>\n",
       "    <tr>\n",
       "      <th>25%</th>\n",
       "      <td>41.381000</td>\n",
       "      <td>-81.811000</td>\n",
       "      <td>0.000000</td>\n",
       "      <td>16.000000</td>\n",
       "    </tr>\n",
       "    <tr>\n",
       "      <th>50%</th>\n",
       "      <td>41.438000</td>\n",
       "      <td>-81.666000</td>\n",
       "      <td>9.000000</td>\n",
       "      <td>34.000000</td>\n",
       "    </tr>\n",
       "    <tr>\n",
       "      <th>75%</th>\n",
       "      <td>41.494000</td>\n",
       "      <td>-81.547000</td>\n",
       "      <td>18.000000</td>\n",
       "      <td>70.000000</td>\n",
       "    </tr>\n",
       "    <tr>\n",
       "      <th>max</th>\n",
       "      <td>41.651000</td>\n",
       "      <td>-81.425000</td>\n",
       "      <td>139.000000</td>\n",
       "      <td>257.000000</td>\n",
       "    </tr>\n",
       "  </tbody>\n",
       "</table>\n",
       "</div>"
      ],
      "text/plain": [
       "            addr_lat       addr_lon  surrounding_stops  \\\n",
       "count  114554.000000  114554.000000      114554.000000   \n",
       "mean       41.438169     -81.679909          11.604885   \n",
       "std         0.082503       0.149042          12.559817   \n",
       "min        41.214000     -81.981000           0.000000   \n",
       "25%        41.381000     -81.811000           0.000000   \n",
       "50%        41.438000     -81.666000           9.000000   \n",
       "75%        41.494000     -81.547000          18.000000   \n",
       "max        41.651000     -81.425000         139.000000   \n",
       "\n",
       "       surrounding_stops_a_mile  \n",
       "count             114554.000000  \n",
       "mean                  46.410837  \n",
       "std                   38.970773  \n",
       "min                    1.000000  \n",
       "25%                   16.000000  \n",
       "50%                   34.000000  \n",
       "75%                   70.000000  \n",
       "max                  257.000000  "
      ]
     },
     "execution_count": 27,
     "metadata": {},
     "output_type": "execute_result"
    }
   ],
   "source": [
    "df_selected.describe()"
   ]
  },
  {
   "cell_type": "code",
   "execution_count": 28,
   "metadata": {
    "collapsed": true
   },
   "outputs": [],
   "source": [
    "df = df_selected"
   ]
  },
  {
   "cell_type": "code",
   "execution_count": 29,
   "metadata": {
    "collapsed": false
   },
   "outputs": [
    {
     "data": {
      "text/plain": [
       "<matplotlib.collections.PathCollection at 0x106cccdd8>"
      ]
     },
     "execution_count": 29,
     "metadata": {},
     "output_type": "execute_result"
    },
    {
     "data": {
      "image/png": "[encoded data removed]",
      "text/plain": [
       "<matplotlib.figure.Figure at 0x10b6a3588>"
      ]
     },
     "metadata": {},
     "output_type": "display_data"
    }
   ],
   "source": [
    "plt.scatter(df.addr_lon, df.addr_lat)"
   ]
  },
  {
   "cell_type": "code",
   "execution_count": 30,
   "metadata": {
    "collapsed": true
   },
   "outputs": [],
   "source": [
    "df.to_csv(\"115k_addr.csv\")"
   ]
  },
  {
   "cell_type": "code",
   "execution_count": 31,
   "metadata": {
    "collapsed": true
   },
   "outputs": [],
   "source": [
    "df_small = df_300k[df_300k.surrounding_stops >=1]"
   ]
  },
  {
   "cell_type": "code",
   "execution_count": 32,
   "metadata": {
    "collapsed": false
   },
   "outputs": [
    {
     "data": {
      "text/html": [
       "<div>\n",
       "<table border=\"1\" class=\"dataframe\">\n",
       "  <thead>\n",
       "    <tr style=\"text-align: right;\">\n",
       "      <th></th>\n",
       "      <th>addr_lat</th>\n",
       "      <th>addr_lon</th>\n",
       "      <th>surrounding_stops</th>\n",
       "      <th>surrounding_stops_a_mile</th>\n",
       "    </tr>\n",
       "  </thead>\n",
       "  <tbody>\n",
       "    <tr>\n",
       "      <th>count</th>\n",
       "      <td>83801.000000</td>\n",
       "      <td>83801.000000</td>\n",
       "      <td>83801.000000</td>\n",
       "      <td>83801.000000</td>\n",
       "    </tr>\n",
       "    <tr>\n",
       "      <th>mean</th>\n",
       "      <td>41.446771</td>\n",
       "      <td>-81.676746</td>\n",
       "      <td>15.863605</td>\n",
       "      <td>58.002375</td>\n",
       "    </tr>\n",
       "    <tr>\n",
       "      <th>std</th>\n",
       "      <td>0.074638</td>\n",
       "      <td>0.143471</td>\n",
       "      <td>12.168830</td>\n",
       "      <td>38.829693</td>\n",
       "    </tr>\n",
       "    <tr>\n",
       "      <th>min</th>\n",
       "      <td>41.221000</td>\n",
       "      <td>-81.974000</td>\n",
       "      <td>1.000000</td>\n",
       "      <td>2.000000</td>\n",
       "    </tr>\n",
       "    <tr>\n",
       "      <th>25%</th>\n",
       "      <td>41.398000</td>\n",
       "      <td>-81.800000</td>\n",
       "      <td>7.000000</td>\n",
       "      <td>27.000000</td>\n",
       "    </tr>\n",
       "    <tr>\n",
       "      <th>50%</th>\n",
       "      <td>41.449000</td>\n",
       "      <td>-81.658000</td>\n",
       "      <td>13.000000</td>\n",
       "      <td>50.000000</td>\n",
       "    </tr>\n",
       "    <tr>\n",
       "      <th>75%</th>\n",
       "      <td>41.494000</td>\n",
       "      <td>-81.550000</td>\n",
       "      <td>22.000000</td>\n",
       "      <td>81.000000</td>\n",
       "    </tr>\n",
       "    <tr>\n",
       "      <th>max</th>\n",
       "      <td>41.644000</td>\n",
       "      <td>-81.432000</td>\n",
       "      <td>139.000000</td>\n",
       "      <td>257.000000</td>\n",
       "    </tr>\n",
       "  </tbody>\n",
       "</table>\n",
       "</div>"
      ],
      "text/plain": [
       "           addr_lat      addr_lon  surrounding_stops  surrounding_stops_a_mile\n",
       "count  83801.000000  83801.000000       83801.000000              83801.000000\n",
       "mean      41.446771    -81.676746          15.863605                 58.002375\n",
       "std        0.074638      0.143471          12.168830                 38.829693\n",
       "min       41.221000    -81.974000           1.000000                  2.000000\n",
       "25%       41.398000    -81.800000           7.000000                 27.000000\n",
       "50%       41.449000    -81.658000          13.000000                 50.000000\n",
       "75%       41.494000    -81.550000          22.000000                 81.000000\n",
       "max       41.644000    -81.432000         139.000000                257.000000"
      ]
     },
     "execution_count": 32,
     "metadata": {},
     "output_type": "execute_result"
    }
   ],
   "source": [
    "df_small.describe()"
   ]
  },
  {
   "cell_type": "code",
   "execution_count": 33,
   "metadata": {
    "collapsed": true
   },
   "outputs": [],
   "source": [
    "df_small.to_csv(\"83k_addr.csv\")"
   ]
  },
  {
   "cell_type": "code",
   "execution_count": 39,
   "metadata": {
    "collapsed": false
   },
   "outputs": [
    {
     "data": {
      "text/plain": [
       "<matplotlib.collections.PathCollection at 0x111054c88>"
      ]
     },
     "execution_count": 39,
     "metadata": {},
     "output_type": "execute_result"
    },
    {
     "data": {
      "image/png": "[encoded data removed]",
      "text/plain": [
       "<matplotlib.figure.Figure at 0x110ffe0b8>"
      ]
     },
     "metadata": {},
     "output_type": "display_data"
    }
   ],
   "source": [
    "plt.scatter(df_small.addr_lon, df_small.addr_lat, c= df_small.surrounding_stops_a_mile, alpha = 0.009)"
   ]
  },
  {
   "cell_type": "code",
   "execution_count": 15,
   "metadata": {
    "collapsed": true
   },
   "outputs": [],
   "source": [
    "df_83k = pd.read_csv(\"83k_addr.csv\")"
   ]
  },
  {
   "cell_type": "code",
   "execution_count": 16,
   "metadata": {
    "collapsed": false
   },
   "outputs": [
    {
     "data": {
      "text/html": [
       "<div>\n",
       "<table border=\"1\" class=\"dataframe\">\n",
       "  <thead>\n",
       "    <tr style=\"text-align: right;\">\n",
       "      <th></th>\n",
       "      <th>Unnamed: 0</th>\n",
       "      <th>addr_lat</th>\n",
       "      <th>addr_lon</th>\n",
       "      <th>surrounding_stops</th>\n",
       "      <th>surrounding_stops_a_mile</th>\n",
       "    </tr>\n",
       "  </thead>\n",
       "  <tbody>\n",
       "    <tr>\n",
       "      <th>count</th>\n",
       "      <td>83801.000000</td>\n",
       "      <td>83801.000000</td>\n",
       "      <td>83801.000000</td>\n",
       "      <td>83801.000000</td>\n",
       "      <td>83801.000000</td>\n",
       "    </tr>\n",
       "    <tr>\n",
       "      <th>mean</th>\n",
       "      <td>161873.613608</td>\n",
       "      <td>41.446771</td>\n",
       "      <td>-81.676746</td>\n",
       "      <td>15.863605</td>\n",
       "      <td>58.002375</td>\n",
       "    </tr>\n",
       "    <tr>\n",
       "      <th>std</th>\n",
       "      <td>71764.772696</td>\n",
       "      <td>0.074638</td>\n",
       "      <td>0.143471</td>\n",
       "      <td>12.168830</td>\n",
       "      <td>38.829693</td>\n",
       "    </tr>\n",
       "    <tr>\n",
       "      <th>min</th>\n",
       "      <td>13185.000000</td>\n",
       "      <td>41.221000</td>\n",
       "      <td>-81.974000</td>\n",
       "      <td>1.000000</td>\n",
       "      <td>2.000000</td>\n",
       "    </tr>\n",
       "    <tr>\n",
       "      <th>25%</th>\n",
       "      <td>100212.000000</td>\n",
       "      <td>41.398000</td>\n",
       "      <td>-81.800000</td>\n",
       "      <td>7.000000</td>\n",
       "      <td>27.000000</td>\n",
       "    </tr>\n",
       "    <tr>\n",
       "      <th>50%</th>\n",
       "      <td>171252.000000</td>\n",
       "      <td>41.449000</td>\n",
       "      <td>-81.658000</td>\n",
       "      <td>13.000000</td>\n",
       "      <td>50.000000</td>\n",
       "    </tr>\n",
       "    <tr>\n",
       "      <th>75%</th>\n",
       "      <td>225310.000000</td>\n",
       "      <td>41.494000</td>\n",
       "      <td>-81.550000</td>\n",
       "      <td>22.000000</td>\n",
       "      <td>81.000000</td>\n",
       "    </tr>\n",
       "    <tr>\n",
       "      <th>max</th>\n",
       "      <td>284354.000000</td>\n",
       "      <td>41.644000</td>\n",
       "      <td>-81.432000</td>\n",
       "      <td>139.000000</td>\n",
       "      <td>257.000000</td>\n",
       "    </tr>\n",
       "  </tbody>\n",
       "</table>\n",
       "</div>"
      ],
      "text/plain": [
       "          Unnamed: 0      addr_lat      addr_lon  surrounding_stops  \\\n",
       "count   83801.000000  83801.000000  83801.000000       83801.000000   \n",
       "mean   161873.613608     41.446771    -81.676746          15.863605   \n",
       "std     71764.772696      0.074638      0.143471          12.168830   \n",
       "min     13185.000000     41.221000    -81.974000           1.000000   \n",
       "25%    100212.000000     41.398000    -81.800000           7.000000   \n",
       "50%    171252.000000     41.449000    -81.658000          13.000000   \n",
       "75%    225310.000000     41.494000    -81.550000          22.000000   \n",
       "max    284354.000000     41.644000    -81.432000         139.000000   \n",
       "\n",
       "       surrounding_stops_a_mile  \n",
       "count              83801.000000  \n",
       "mean                  58.002375  \n",
       "std                   38.829693  \n",
       "min                    2.000000  \n",
       "25%                   27.000000  \n",
       "50%                   50.000000  \n",
       "75%                   81.000000  \n",
       "max                  257.000000  "
      ]
     },
     "execution_count": 16,
     "metadata": {},
     "output_type": "execute_result"
    }
   ],
   "source": [
    "df_83k.describe()"
   ]
  },
  {
   "cell_type": "code",
   "execution_count": 51,
   "metadata": {
    "collapsed": false
   },
   "outputs": [
    {
     "name": "stderr",
     "output_type": "stream",
     "text": [
      "//anaconda/lib/python3.4/site-packages/pandas/core/frame.py:2697: SettingWithCopyWarning: \n",
      "A value is trying to be set on a copy of a slice from a DataFrame\n",
      "\n",
      "See the caveats in the documentation: http://pandas.pydata.org/pandas-docs/stable/indexing.html#indexing-view-versus-copy\n",
      "  **kwargs)\n"
     ]
    }
   ],
   "source": [
    "df.rename(columns={'surrounding_stops': 'surrounding_stops_1mile', 'surrounding_stops_a_mile': 'surrounding_stops_2miles'}, inplace=True)"
   ]
  },
  {
   "cell_type": "code",
   "execution_count": 17,
   "metadata": {
    "collapsed": false
   },
   "outputs": [
    {
     "data": {
      "text/html": [
       "<div>\n",
       "<table border=\"1\" class=\"dataframe\">\n",
       "  <thead>\n",
       "    <tr style=\"text-align: right;\">\n",
       "      <th></th>\n",
       "      <th>Unnamed: 0</th>\n",
       "      <th>addr_lat</th>\n",
       "      <th>addr_lon</th>\n",
       "      <th>surrounding_stops</th>\n",
       "      <th>surrounding_stops_a_mile</th>\n",
       "    </tr>\n",
       "  </thead>\n",
       "  <tbody>\n",
       "    <tr>\n",
       "      <th>0</th>\n",
       "      <td>13185</td>\n",
       "      <td>41.385</td>\n",
       "      <td>-81.974</td>\n",
       "      <td>2</td>\n",
       "      <td>9</td>\n",
       "    </tr>\n",
       "    <tr>\n",
       "      <th>1</th>\n",
       "      <td>13186</td>\n",
       "      <td>41.386</td>\n",
       "      <td>-81.974</td>\n",
       "      <td>2</td>\n",
       "      <td>9</td>\n",
       "    </tr>\n",
       "    <tr>\n",
       "      <th>2</th>\n",
       "      <td>13187</td>\n",
       "      <td>41.387</td>\n",
       "      <td>-81.974</td>\n",
       "      <td>2</td>\n",
       "      <td>9</td>\n",
       "    </tr>\n",
       "    <tr>\n",
       "      <th>3</th>\n",
       "      <td>13188</td>\n",
       "      <td>41.388</td>\n",
       "      <td>-81.974</td>\n",
       "      <td>2</td>\n",
       "      <td>9</td>\n",
       "    </tr>\n",
       "    <tr>\n",
       "      <th>4</th>\n",
       "      <td>13189</td>\n",
       "      <td>41.389</td>\n",
       "      <td>-81.974</td>\n",
       "      <td>2</td>\n",
       "      <td>9</td>\n",
       "    </tr>\n",
       "  </tbody>\n",
       "</table>\n",
       "</div>"
      ],
      "text/plain": [
       "   Unnamed: 0  addr_lat  addr_lon  surrounding_stops  surrounding_stops_a_mile\n",
       "0       13185    41.385   -81.974                  2                         9\n",
       "1       13186    41.386   -81.974                  2                         9\n",
       "2       13187    41.387   -81.974                  2                         9\n",
       "3       13188    41.388   -81.974                  2                         9\n",
       "4       13189    41.389   -81.974                  2                         9"
      ]
     },
     "execution_count": 17,
     "metadata": {},
     "output_type": "execute_result"
    }
   ],
   "source": [
    "df_83k.head()"
   ]
  },
  {
   "cell_type": "code",
   "execution_count": 19,
   "metadata": {
    "collapsed": false
   },
   "outputs": [],
   "source": [
    "df_83k[\"subtraction\"] = df_83k.surrounding_stops_a_mile - df_83k.surrounding_stops"
   ]
  },
  {
   "cell_type": "code",
   "execution_count": 20,
   "metadata": {
    "collapsed": false
   },
   "outputs": [
    {
     "data": {
      "text/html": [
       "<div>\n",
       "<table border=\"1\" class=\"dataframe\">\n",
       "  <thead>\n",
       "    <tr style=\"text-align: right;\">\n",
       "      <th></th>\n",
       "      <th>Unnamed: 0</th>\n",
       "      <th>addr_lat</th>\n",
       "      <th>addr_lon</th>\n",
       "      <th>surrounding_stops</th>\n",
       "      <th>surrounding_stops_a_mile</th>\n",
       "      <th>subtraction</th>\n",
       "    </tr>\n",
       "  </thead>\n",
       "  <tbody>\n",
       "    <tr>\n",
       "      <th>count</th>\n",
       "      <td>83801.000000</td>\n",
       "      <td>83801.000000</td>\n",
       "      <td>83801.000000</td>\n",
       "      <td>83801.000000</td>\n",
       "      <td>83801.000000</td>\n",
       "      <td>83801.000000</td>\n",
       "    </tr>\n",
       "    <tr>\n",
       "      <th>mean</th>\n",
       "      <td>161873.613608</td>\n",
       "      <td>41.446771</td>\n",
       "      <td>-81.676746</td>\n",
       "      <td>15.863605</td>\n",
       "      <td>58.002375</td>\n",
       "      <td>42.138769</td>\n",
       "    </tr>\n",
       "    <tr>\n",
       "      <th>std</th>\n",
       "      <td>71764.772696</td>\n",
       "      <td>0.074638</td>\n",
       "      <td>0.143471</td>\n",
       "      <td>12.168830</td>\n",
       "      <td>38.829693</td>\n",
       "      <td>30.283846</td>\n",
       "    </tr>\n",
       "    <tr>\n",
       "      <th>min</th>\n",
       "      <td>13185.000000</td>\n",
       "      <td>41.221000</td>\n",
       "      <td>-81.974000</td>\n",
       "      <td>1.000000</td>\n",
       "      <td>2.000000</td>\n",
       "      <td>0.000000</td>\n",
       "    </tr>\n",
       "    <tr>\n",
       "      <th>25%</th>\n",
       "      <td>100212.000000</td>\n",
       "      <td>41.398000</td>\n",
       "      <td>-81.800000</td>\n",
       "      <td>7.000000</td>\n",
       "      <td>27.000000</td>\n",
       "      <td>17.000000</td>\n",
       "    </tr>\n",
       "    <tr>\n",
       "      <th>50%</th>\n",
       "      <td>171252.000000</td>\n",
       "      <td>41.449000</td>\n",
       "      <td>-81.658000</td>\n",
       "      <td>13.000000</td>\n",
       "      <td>50.000000</td>\n",
       "      <td>36.000000</td>\n",
       "    </tr>\n",
       "    <tr>\n",
       "      <th>75%</th>\n",
       "      <td>225310.000000</td>\n",
       "      <td>41.494000</td>\n",
       "      <td>-81.550000</td>\n",
       "      <td>22.000000</td>\n",
       "      <td>81.000000</td>\n",
       "      <td>61.000000</td>\n",
       "    </tr>\n",
       "    <tr>\n",
       "      <th>max</th>\n",
       "      <td>284354.000000</td>\n",
       "      <td>41.644000</td>\n",
       "      <td>-81.432000</td>\n",
       "      <td>139.000000</td>\n",
       "      <td>257.000000</td>\n",
       "      <td>211.000000</td>\n",
       "    </tr>\n",
       "  </tbody>\n",
       "</table>\n",
       "</div>"
      ],
      "text/plain": [
       "          Unnamed: 0      addr_lat      addr_lon  surrounding_stops  \\\n",
       "count   83801.000000  83801.000000  83801.000000       83801.000000   \n",
       "mean   161873.613608     41.446771    -81.676746          15.863605   \n",
       "std     71764.772696      0.074638      0.143471          12.168830   \n",
       "min     13185.000000     41.221000    -81.974000           1.000000   \n",
       "25%    100212.000000     41.398000    -81.800000           7.000000   \n",
       "50%    171252.000000     41.449000    -81.658000          13.000000   \n",
       "75%    225310.000000     41.494000    -81.550000          22.000000   \n",
       "max    284354.000000     41.644000    -81.432000         139.000000   \n",
       "\n",
       "       surrounding_stops_a_mile   subtraction  \n",
       "count              83801.000000  83801.000000  \n",
       "mean                  58.002375     42.138769  \n",
       "std                   38.829693     30.283846  \n",
       "min                    2.000000      0.000000  \n",
       "25%                   27.000000     17.000000  \n",
       "50%                   50.000000     36.000000  \n",
       "75%                   81.000000     61.000000  \n",
       "max                  257.000000    211.000000  "
      ]
     },
     "execution_count": 20,
     "metadata": {},
     "output_type": "execute_result"
    }
   ],
   "source": [
    "df_83k.describe()"
   ]
  },
  {
   "cell_type": "code",
   "execution_count": 23,
   "metadata": {
    "collapsed": false
   },
   "outputs": [
    {
     "data": {
      "text/plain": [
       "(41.2, 41.65)"
      ]
     },
     "execution_count": 23,
     "metadata": {},
     "output_type": "execute_result"
    },
    {
     "data": {
      "image/png": "[encoded data removed]",
      "text/plain": [
       "<matplotlib.figure.Figure at 0x10b8aed68>"
      ]
     },
     "metadata": {},
     "output_type": "display_data"
    }
   ],
   "source": [
    "plt.scatter(df_83k.addr_lon, df_83k.addr_lat, c= df_83k.subtraction, alpha = 0.01)\n",
    "plt.xlim(-82, -81.4)\n",
    "plt.ylim(41.2,41.65)"
   ]
  },
  {
   "cell_type": "code",
   "execution_count": 22,
   "metadata": {
    "collapsed": false
   },
   "outputs": [],
   "source": [
    "plt.style.use(\"ggplot\")"
   ]
  },
  {
   "cell_type": "code",
   "execution_count": 67,
   "metadata": {
    "collapsed": false
   },
   "outputs": [
    {
     "data": {
      "text/html": [
       "<div>\n",
       "<table border=\"1\" class=\"dataframe\">\n",
       "  <thead>\n",
       "    <tr style=\"text-align: right;\">\n",
       "      <th></th>\n",
       "      <th>addr_lat</th>\n",
       "      <th>addr_lon</th>\n",
       "      <th>surrounding_stops_1mile</th>\n",
       "      <th>surrounding_stops_2miles</th>\n",
       "      <th>subtraction</th>\n",
       "    </tr>\n",
       "  </thead>\n",
       "  <tbody>\n",
       "    <tr>\n",
       "      <th>13185</th>\n",
       "      <td>41.385</td>\n",
       "      <td>-81.974</td>\n",
       "      <td>2</td>\n",
       "      <td>9</td>\n",
       "      <td>7</td>\n",
       "    </tr>\n",
       "    <tr>\n",
       "      <th>13186</th>\n",
       "      <td>41.386</td>\n",
       "      <td>-81.974</td>\n",
       "      <td>2</td>\n",
       "      <td>9</td>\n",
       "      <td>7</td>\n",
       "    </tr>\n",
       "    <tr>\n",
       "      <th>13187</th>\n",
       "      <td>41.387</td>\n",
       "      <td>-81.974</td>\n",
       "      <td>2</td>\n",
       "      <td>9</td>\n",
       "      <td>7</td>\n",
       "    </tr>\n",
       "    <tr>\n",
       "      <th>13188</th>\n",
       "      <td>41.388</td>\n",
       "      <td>-81.974</td>\n",
       "      <td>2</td>\n",
       "      <td>9</td>\n",
       "      <td>7</td>\n",
       "    </tr>\n",
       "    <tr>\n",
       "      <th>13189</th>\n",
       "      <td>41.389</td>\n",
       "      <td>-81.974</td>\n",
       "      <td>2</td>\n",
       "      <td>9</td>\n",
       "      <td>7</td>\n",
       "    </tr>\n",
       "  </tbody>\n",
       "</table>\n",
       "</div>"
      ],
      "text/plain": [
       "       addr_lat  addr_lon  surrounding_stops_1mile  surrounding_stops_2miles  \\\n",
       "13185    41.385   -81.974                        2                         9   \n",
       "13186    41.386   -81.974                        2                         9   \n",
       "13187    41.387   -81.974                        2                         9   \n",
       "13188    41.388   -81.974                        2                         9   \n",
       "13189    41.389   -81.974                        2                         9   \n",
       "\n",
       "       subtraction  \n",
       "13185            7  \n",
       "13186            7  \n",
       "13187            7  \n",
       "13188            7  \n",
       "13189            7  "
      ]
     },
     "execution_count": 67,
     "metadata": {},
     "output_type": "execute_result"
    }
   ],
   "source": [
    "df_83k.head()"
   ]
  },
  {
   "cell_type": "code",
   "execution_count": 24,
   "metadata": {
    "collapsed": true
   },
   "outputs": [],
   "source": [
    "df_83k.index = range(0,len(df_83k))\n"
   ]
  },
  {
   "cell_type": "code",
   "execution_count": 25,
   "metadata": {
    "collapsed": false
   },
   "outputs": [
    {
     "data": {
      "text/html": [
       "<div>\n",
       "<table border=\"1\" class=\"dataframe\">\n",
       "  <thead>\n",
       "    <tr style=\"text-align: right;\">\n",
       "      <th></th>\n",
       "      <th>Unnamed: 0</th>\n",
       "      <th>addr_lat</th>\n",
       "      <th>addr_lon</th>\n",
       "      <th>surrounding_stops</th>\n",
       "      <th>surrounding_stops_a_mile</th>\n",
       "      <th>subtraction</th>\n",
       "    </tr>\n",
       "  </thead>\n",
       "  <tbody>\n",
       "    <tr>\n",
       "      <th>0</th>\n",
       "      <td>13185</td>\n",
       "      <td>41.385</td>\n",
       "      <td>-81.974</td>\n",
       "      <td>2</td>\n",
       "      <td>9</td>\n",
       "      <td>7</td>\n",
       "    </tr>\n",
       "    <tr>\n",
       "      <th>1</th>\n",
       "      <td>13186</td>\n",
       "      <td>41.386</td>\n",
       "      <td>-81.974</td>\n",
       "      <td>2</td>\n",
       "      <td>9</td>\n",
       "      <td>7</td>\n",
       "    </tr>\n",
       "    <tr>\n",
       "      <th>2</th>\n",
       "      <td>13187</td>\n",
       "      <td>41.387</td>\n",
       "      <td>-81.974</td>\n",
       "      <td>2</td>\n",
       "      <td>9</td>\n",
       "      <td>7</td>\n",
       "    </tr>\n",
       "    <tr>\n",
       "      <th>3</th>\n",
       "      <td>13188</td>\n",
       "      <td>41.388</td>\n",
       "      <td>-81.974</td>\n",
       "      <td>2</td>\n",
       "      <td>9</td>\n",
       "      <td>7</td>\n",
       "    </tr>\n",
       "    <tr>\n",
       "      <th>4</th>\n",
       "      <td>13189</td>\n",
       "      <td>41.389</td>\n",
       "      <td>-81.974</td>\n",
       "      <td>2</td>\n",
       "      <td>9</td>\n",
       "      <td>7</td>\n",
       "    </tr>\n",
       "  </tbody>\n",
       "</table>\n",
       "</div>"
      ],
      "text/plain": [
       "   Unnamed: 0  addr_lat  addr_lon  surrounding_stops  \\\n",
       "0       13185    41.385   -81.974                  2   \n",
       "1       13186    41.386   -81.974                  2   \n",
       "2       13187    41.387   -81.974                  2   \n",
       "3       13188    41.388   -81.974                  2   \n",
       "4       13189    41.389   -81.974                  2   \n",
       "\n",
       "   surrounding_stops_a_mile  subtraction  \n",
       "0                         9            7  \n",
       "1                         9            7  \n",
       "2                         9            7  \n",
       "3                         9            7  \n",
       "4                         9            7  "
      ]
     },
     "execution_count": 25,
     "metadata": {},
     "output_type": "execute_result"
    }
   ],
   "source": [
    "df_83k.head()"
   ]
  },
  {
   "cell_type": "code",
   "execution_count": 30,
   "metadata": {
    "collapsed": false
   },
   "outputs": [
    {
     "name": "stderr",
     "output_type": "stream",
     "text": [
      "//anaconda/lib/python3.4/site-packages/pandas/core/indexing.py:266: SettingWithCopyWarning: \n",
      "A value is trying to be set on a copy of a slice from a DataFrame.\n",
      "Try using .loc[row_indexer,col_indexer] = value instead\n",
      "\n",
      "See the caveats in the documentation: http://pandas.pydata.org/pandas-docs/stable/indexing.html#indexing-view-versus-copy\n",
      "  self.obj[key] = _infer_fill_value(value)\n",
      "//anaconda/lib/python3.4/site-packages/pandas/core/indexing.py:426: SettingWithCopyWarning: \n",
      "A value is trying to be set on a copy of a slice from a DataFrame.\n",
      "Try using .loc[row_indexer,col_indexer] = value instead\n",
      "\n",
      "See the caveats in the documentation: http://pandas.pydata.org/pandas-docs/stable/indexing.html#indexing-view-versus-copy\n",
      "  self.obj[item] = s\n"
     ]
    }
   ],
   "source": [
    "for i in range(len(df_83k)):\n",
    "    x = get_distance_and_coordinates_to_closest_bus_stop(df_83k.loc[i,\"addr_lat\"], df_83k.loc[i,\"addr_lon\"], df_stops)\n",
    "    df_83k.loc[i,\"distance\"] = x[0].values\n",
    "    df_83k.loc[i,\"stop_lat\"] = x[1].values\n",
    "    df_83k.loc[i,\"stop_lon\"] = x[2].values\n",
    "\n"
   ]
  },
  {
   "cell_type": "code",
   "execution_count": 29,
   "metadata": {
    "collapsed": false
   },
   "outputs": [
    {
     "data": {
      "text/html": [
       "<div>\n",
       "<table border=\"1\" class=\"dataframe\">\n",
       "  <thead>\n",
       "    <tr style=\"text-align: right;\">\n",
       "      <th></th>\n",
       "      <th>Unnamed: 0</th>\n",
       "      <th>addr_lat</th>\n",
       "      <th>addr_lon</th>\n",
       "      <th>surrounding_stops</th>\n",
       "      <th>surrounding_stops_a_mile</th>\n",
       "      <th>subtraction</th>\n",
       "      <th>distance</th>\n",
       "      <th>stop_lat</th>\n",
       "      <th>stop_lon</th>\n",
       "    </tr>\n",
       "  </thead>\n",
       "  <tbody>\n",
       "    <tr>\n",
       "      <th>0</th>\n",
       "      <td>13185</td>\n",
       "      <td>41.385</td>\n",
       "      <td>-81.974</td>\n",
       "      <td>2</td>\n",
       "      <td>9</td>\n",
       "      <td>7</td>\n",
       "      <td>0.569814</td>\n",
       "      <td>41.391666</td>\n",
       "      <td>-81.96753</td>\n",
       "    </tr>\n",
       "    <tr>\n",
       "      <th>1</th>\n",
       "      <td>13186</td>\n",
       "      <td>41.386</td>\n",
       "      <td>-81.974</td>\n",
       "      <td>2</td>\n",
       "      <td>9</td>\n",
       "      <td>7</td>\n",
       "      <td>0.515709</td>\n",
       "      <td>41.391666</td>\n",
       "      <td>-81.96753</td>\n",
       "    </tr>\n",
       "    <tr>\n",
       "      <th>2</th>\n",
       "      <td>13187</td>\n",
       "      <td>41.387</td>\n",
       "      <td>-81.974</td>\n",
       "      <td>2</td>\n",
       "      <td>9</td>\n",
       "      <td>7</td>\n",
       "      <td>0.465562</td>\n",
       "      <td>41.391666</td>\n",
       "      <td>-81.96753</td>\n",
       "    </tr>\n",
       "    <tr>\n",
       "      <th>3</th>\n",
       "      <td>13188</td>\n",
       "      <td>41.388</td>\n",
       "      <td>-81.974</td>\n",
       "      <td>2</td>\n",
       "      <td>9</td>\n",
       "      <td>7</td>\n",
       "      <td>0.420792</td>\n",
       "      <td>41.391666</td>\n",
       "      <td>-81.96753</td>\n",
       "    </tr>\n",
       "    <tr>\n",
       "      <th>4</th>\n",
       "      <td>13189</td>\n",
       "      <td>41.389</td>\n",
       "      <td>-81.974</td>\n",
       "      <td>2</td>\n",
       "      <td>9</td>\n",
       "      <td>7</td>\n",
       "      <td>0.383287</td>\n",
       "      <td>41.391666</td>\n",
       "      <td>-81.96753</td>\n",
       "    </tr>\n",
       "  </tbody>\n",
       "</table>\n",
       "</div>"
      ],
      "text/plain": [
       "   Unnamed: 0  addr_lat  addr_lon  surrounding_stops  \\\n",
       "0       13185    41.385   -81.974                  2   \n",
       "1       13186    41.386   -81.974                  2   \n",
       "2       13187    41.387   -81.974                  2   \n",
       "3       13188    41.388   -81.974                  2   \n",
       "4       13189    41.389   -81.974                  2   \n",
       "\n",
       "   surrounding_stops_a_mile  subtraction  distance   stop_lat  stop_lon  \n",
       "0                         9            7  0.569814  41.391666 -81.96753  \n",
       "1                         9            7  0.515709  41.391666 -81.96753  \n",
       "2                         9            7  0.465562  41.391666 -81.96753  \n",
       "3                         9            7  0.420792  41.391666 -81.96753  \n",
       "4                         9            7  0.383287  41.391666 -81.96753  "
      ]
     },
     "execution_count": 29,
     "metadata": {},
     "output_type": "execute_result"
    }
   ],
   "source": [
    "df_83k.head()"
   ]
  },
  {
   "cell_type": "code",
   "execution_count": 82,
   "metadata": {
    "collapsed": true
   },
   "outputs": [],
   "source": [
    "df_83k = df_83k.drop('distance2',1)\n"
   ]
  },
  {
   "cell_type": "code",
   "execution_count": null,
   "metadata": {
    "collapsed": true
   },
   "outputs": [],
   "source": []
  },
  {
   "cell_type": "code",
   "execution_count": null,
   "metadata": {
    "collapsed": true
   },
   "outputs": [],
   "source": []
  },
  {
   "cell_type": "code",
   "execution_count": 72,
   "metadata": {
    "collapsed": true
   },
   "outputs": [],
   "source": [
    "def testFunc(x=1):\n",
    "    return x, x+1, x**x"
   ]
  },
  {
   "cell_type": "code",
   "execution_count": 73,
   "metadata": {
    "collapsed": false
   },
   "outputs": [
    {
     "data": {
      "text/plain": [
       "(1, 2, 1)"
      ]
     },
     "execution_count": 73,
     "metadata": {},
     "output_type": "execute_result"
    }
   ],
   "source": [
    "testFunc()"
   ]
  },
  {
   "cell_type": "code",
   "execution_count": 74,
   "metadata": {
    "collapsed": true
   },
   "outputs": [],
   "source": [
    "x = testFunc(4)"
   ]
  },
  {
   "cell_type": "code",
   "execution_count": 75,
   "metadata": {
    "collapsed": false
   },
   "outputs": [
    {
     "data": {
      "text/plain": [
       "5"
      ]
     },
     "execution_count": 75,
     "metadata": {},
     "output_type": "execute_result"
    }
   ],
   "source": [
    "x[1]"
   ]
  },
  {
   "cell_type": "code",
   "execution_count": 31,
   "metadata": {
    "collapsed": false
   },
   "outputs": [
    {
     "data": {
      "text/html": [
       "<div>\n",
       "<table border=\"1\" class=\"dataframe\">\n",
       "  <thead>\n",
       "    <tr style=\"text-align: right;\">\n",
       "      <th></th>\n",
       "      <th>Unnamed: 0</th>\n",
       "      <th>addr_lat</th>\n",
       "      <th>addr_lon</th>\n",
       "      <th>surrounding_stops</th>\n",
       "      <th>surrounding_stops_a_mile</th>\n",
       "      <th>subtraction</th>\n",
       "      <th>distance</th>\n",
       "      <th>stop_lat</th>\n",
       "      <th>stop_lon</th>\n",
       "    </tr>\n",
       "  </thead>\n",
       "  <tbody>\n",
       "    <tr>\n",
       "      <th>0</th>\n",
       "      <td>13185</td>\n",
       "      <td>41.385</td>\n",
       "      <td>-81.974</td>\n",
       "      <td>2</td>\n",
       "      <td>9</td>\n",
       "      <td>7</td>\n",
       "      <td>0.569814</td>\n",
       "      <td>41.391666</td>\n",
       "      <td>-81.96753</td>\n",
       "    </tr>\n",
       "    <tr>\n",
       "      <th>1</th>\n",
       "      <td>13186</td>\n",
       "      <td>41.386</td>\n",
       "      <td>-81.974</td>\n",
       "      <td>2</td>\n",
       "      <td>9</td>\n",
       "      <td>7</td>\n",
       "      <td>0.515709</td>\n",
       "      <td>41.391666</td>\n",
       "      <td>-81.96753</td>\n",
       "    </tr>\n",
       "    <tr>\n",
       "      <th>2</th>\n",
       "      <td>13187</td>\n",
       "      <td>41.387</td>\n",
       "      <td>-81.974</td>\n",
       "      <td>2</td>\n",
       "      <td>9</td>\n",
       "      <td>7</td>\n",
       "      <td>0.465562</td>\n",
       "      <td>41.391666</td>\n",
       "      <td>-81.96753</td>\n",
       "    </tr>\n",
       "    <tr>\n",
       "      <th>3</th>\n",
       "      <td>13188</td>\n",
       "      <td>41.388</td>\n",
       "      <td>-81.974</td>\n",
       "      <td>2</td>\n",
       "      <td>9</td>\n",
       "      <td>7</td>\n",
       "      <td>0.420792</td>\n",
       "      <td>41.391666</td>\n",
       "      <td>-81.96753</td>\n",
       "    </tr>\n",
       "    <tr>\n",
       "      <th>4</th>\n",
       "      <td>13189</td>\n",
       "      <td>41.389</td>\n",
       "      <td>-81.974</td>\n",
       "      <td>2</td>\n",
       "      <td>9</td>\n",
       "      <td>7</td>\n",
       "      <td>0.383287</td>\n",
       "      <td>41.391666</td>\n",
       "      <td>-81.96753</td>\n",
       "    </tr>\n",
       "  </tbody>\n",
       "</table>\n",
       "</div>"
      ],
      "text/plain": [
       "   Unnamed: 0  addr_lat  addr_lon  surrounding_stops  \\\n",
       "0       13185    41.385   -81.974                  2   \n",
       "1       13186    41.386   -81.974                  2   \n",
       "2       13187    41.387   -81.974                  2   \n",
       "3       13188    41.388   -81.974                  2   \n",
       "4       13189    41.389   -81.974                  2   \n",
       "\n",
       "   surrounding_stops_a_mile  subtraction  distance   stop_lat  stop_lon  \n",
       "0                         9            7  0.569814  41.391666 -81.96753  \n",
       "1                         9            7  0.515709  41.391666 -81.96753  \n",
       "2                         9            7  0.465562  41.391666 -81.96753  \n",
       "3                         9            7  0.420792  41.391666 -81.96753  \n",
       "4                         9            7  0.383287  41.391666 -81.96753  "
      ]
     },
     "execution_count": 31,
     "metadata": {},
     "output_type": "execute_result"
    }
   ],
   "source": [
    "df_83k.head()"
   ]
  },
  {
   "cell_type": "code",
   "execution_count": 32,
   "metadata": {
    "collapsed": true
   },
   "outputs": [],
   "source": [
    "df_83k.to_csv(\"83k_addr_close_stops_distance.csv\")"
   ]
  },
  {
   "cell_type": "code",
   "execution_count": 33,
   "metadata": {
    "collapsed": false
   },
   "outputs": [
    {
     "data": {
      "text/html": [
       "<div>\n",
       "<table border=\"1\" class=\"dataframe\">\n",
       "  <thead>\n",
       "    <tr style=\"text-align: right;\">\n",
       "      <th></th>\n",
       "      <th>Unnamed: 0</th>\n",
       "      <th>addr_lat</th>\n",
       "      <th>addr_lon</th>\n",
       "      <th>surrounding_stops</th>\n",
       "      <th>surrounding_stops_a_mile</th>\n",
       "      <th>subtraction</th>\n",
       "      <th>distance</th>\n",
       "      <th>stop_lat</th>\n",
       "      <th>stop_lon</th>\n",
       "    </tr>\n",
       "  </thead>\n",
       "  <tbody>\n",
       "    <tr>\n",
       "      <th>count</th>\n",
       "      <td>83801.000000</td>\n",
       "      <td>83801.000000</td>\n",
       "      <td>83801.000000</td>\n",
       "      <td>83801.000000</td>\n",
       "      <td>83801.000000</td>\n",
       "      <td>83801.000000</td>\n",
       "      <td>83801.000000</td>\n",
       "      <td>83801.000000</td>\n",
       "      <td>83801.000000</td>\n",
       "    </tr>\n",
       "    <tr>\n",
       "      <th>mean</th>\n",
       "      <td>161873.613608</td>\n",
       "      <td>41.446771</td>\n",
       "      <td>-81.676746</td>\n",
       "      <td>15.863605</td>\n",
       "      <td>58.002375</td>\n",
       "      <td>42.138769</td>\n",
       "      <td>0.206996</td>\n",
       "      <td>41.446754</td>\n",
       "      <td>-81.676733</td>\n",
       "    </tr>\n",
       "    <tr>\n",
       "      <th>std</th>\n",
       "      <td>71764.772696</td>\n",
       "      <td>0.074638</td>\n",
       "      <td>0.143471</td>\n",
       "      <td>12.168830</td>\n",
       "      <td>38.829693</td>\n",
       "      <td>30.283846</td>\n",
       "      <td>0.136093</td>\n",
       "      <td>0.074351</td>\n",
       "      <td>0.143318</td>\n",
       "    </tr>\n",
       "    <tr>\n",
       "      <th>min</th>\n",
       "      <td>13185.000000</td>\n",
       "      <td>41.221000</td>\n",
       "      <td>-81.974000</td>\n",
       "      <td>1.000000</td>\n",
       "      <td>2.000000</td>\n",
       "      <td>0.000000</td>\n",
       "      <td>0.000427</td>\n",
       "      <td>41.227883</td>\n",
       "      <td>-81.967530</td>\n",
       "    </tr>\n",
       "    <tr>\n",
       "      <th>25%</th>\n",
       "      <td>100212.000000</td>\n",
       "      <td>41.398000</td>\n",
       "      <td>-81.800000</td>\n",
       "      <td>7.000000</td>\n",
       "      <td>27.000000</td>\n",
       "      <td>17.000000</td>\n",
       "      <td>0.095020</td>\n",
       "      <td>41.397864</td>\n",
       "      <td>-81.800384</td>\n",
       "    </tr>\n",
       "    <tr>\n",
       "      <th>50%</th>\n",
       "      <td>171252.000000</td>\n",
       "      <td>41.449000</td>\n",
       "      <td>-81.658000</td>\n",
       "      <td>13.000000</td>\n",
       "      <td>50.000000</td>\n",
       "      <td>36.000000</td>\n",
       "      <td>0.180633</td>\n",
       "      <td>41.449402</td>\n",
       "      <td>-81.657249</td>\n",
       "    </tr>\n",
       "    <tr>\n",
       "      <th>75%</th>\n",
       "      <td>225310.000000</td>\n",
       "      <td>41.494000</td>\n",
       "      <td>-81.550000</td>\n",
       "      <td>22.000000</td>\n",
       "      <td>81.000000</td>\n",
       "      <td>61.000000</td>\n",
       "      <td>0.299093</td>\n",
       "      <td>41.492624</td>\n",
       "      <td>-81.549916</td>\n",
       "    </tr>\n",
       "    <tr>\n",
       "      <th>max</th>\n",
       "      <td>284354.000000</td>\n",
       "      <td>41.644000</td>\n",
       "      <td>-81.432000</td>\n",
       "      <td>139.000000</td>\n",
       "      <td>257.000000</td>\n",
       "      <td>211.000000</td>\n",
       "      <td>0.621456</td>\n",
       "      <td>41.637051</td>\n",
       "      <td>-81.438542</td>\n",
       "    </tr>\n",
       "  </tbody>\n",
       "</table>\n",
       "</div>"
      ],
      "text/plain": [
       "          Unnamed: 0      addr_lat      addr_lon  surrounding_stops  \\\n",
       "count   83801.000000  83801.000000  83801.000000       83801.000000   \n",
       "mean   161873.613608     41.446771    -81.676746          15.863605   \n",
       "std     71764.772696      0.074638      0.143471          12.168830   \n",
       "min     13185.000000     41.221000    -81.974000           1.000000   \n",
       "25%    100212.000000     41.398000    -81.800000           7.000000   \n",
       "50%    171252.000000     41.449000    -81.658000          13.000000   \n",
       "75%    225310.000000     41.494000    -81.550000          22.000000   \n",
       "max    284354.000000     41.644000    -81.432000         139.000000   \n",
       "\n",
       "       surrounding_stops_a_mile   subtraction      distance      stop_lat  \\\n",
       "count              83801.000000  83801.000000  83801.000000  83801.000000   \n",
       "mean                  58.002375     42.138769      0.206996     41.446754   \n",
       "std                   38.829693     30.283846      0.136093      0.074351   \n",
       "min                    2.000000      0.000000      0.000427     41.227883   \n",
       "25%                   27.000000     17.000000      0.095020     41.397864   \n",
       "50%                   50.000000     36.000000      0.180633     41.449402   \n",
       "75%                   81.000000     61.000000      0.299093     41.492624   \n",
       "max                  257.000000    211.000000      0.621456     41.637051   \n",
       "\n",
       "           stop_lon  \n",
       "count  83801.000000  \n",
       "mean     -81.676733  \n",
       "std        0.143318  \n",
       "min      -81.967530  \n",
       "25%      -81.800384  \n",
       "50%      -81.657249  \n",
       "75%      -81.549916  \n",
       "max      -81.438542  "
      ]
     },
     "execution_count": 33,
     "metadata": {},
     "output_type": "execute_result"
    }
   ],
   "source": [
    "df_83k.describe()"
   ]
  },
  {
   "cell_type": "code",
   "execution_count": 1,
   "metadata": {
    "collapsed": true
   },
   "outputs": [],
   "source": [
    "from MapboxAPIWrapper import MapboxAPIWrapper\n",
    "from MapLocation import MapLocation\n",
    "\n",
    "wrapper = MapboxAPIWrapper()\n",
    "wrapper.load_api_key_from_file(\"api_key.txt\")\n",
    "\n",
    "def getWalkingTime(origin_lat, origin_lon, destination_lat, destination_lon):\n",
    "    # returns walking time in seconds\n",
    "    origin = MapLocation(origin_lat, origin_lon)\n",
    "    destination = MapLocation(destination_lat, destination_lon)\n",
    "    results = wrapper.get_distance_from_api(origin, destination)\n",
    "    return results[\"time\"]\n",
    "\n",
    "\n"
   ]
  },
  {
   "cell_type": "code",
   "execution_count": 6,
   "metadata": {
    "collapsed": true
   },
   "outputs": [],
   "source": [
    "df_83k = pd.read_csv(\"83k_addr_close_stops_distance.csv\")"
   ]
  },
  {
   "cell_type": "code",
   "execution_count": 7,
   "metadata": {
    "collapsed": false
   },
   "outputs": [
    {
     "data": {
      "text/html": [
       "<div>\n",
       "<table border=\"1\" class=\"dataframe\">\n",
       "  <thead>\n",
       "    <tr style=\"text-align: right;\">\n",
       "      <th></th>\n",
       "      <th>Unnamed: 0</th>\n",
       "      <th>Unnamed: 0.1</th>\n",
       "      <th>addr_lat</th>\n",
       "      <th>addr_lon</th>\n",
       "      <th>surrounding_stops</th>\n",
       "      <th>surrounding_stops_a_mile</th>\n",
       "      <th>subtraction</th>\n",
       "      <th>distance</th>\n",
       "      <th>stop_lat</th>\n",
       "      <th>stop_lon</th>\n",
       "    </tr>\n",
       "  </thead>\n",
       "  <tbody>\n",
       "    <tr>\n",
       "      <th>0</th>\n",
       "      <td>0</td>\n",
       "      <td>13185</td>\n",
       "      <td>41.385</td>\n",
       "      <td>-81.974</td>\n",
       "      <td>2</td>\n",
       "      <td>9</td>\n",
       "      <td>7</td>\n",
       "      <td>0.569814</td>\n",
       "      <td>41.391666</td>\n",
       "      <td>-81.96753</td>\n",
       "    </tr>\n",
       "    <tr>\n",
       "      <th>1</th>\n",
       "      <td>1</td>\n",
       "      <td>13186</td>\n",
       "      <td>41.386</td>\n",
       "      <td>-81.974</td>\n",
       "      <td>2</td>\n",
       "      <td>9</td>\n",
       "      <td>7</td>\n",
       "      <td>0.515709</td>\n",
       "      <td>41.391666</td>\n",
       "      <td>-81.96753</td>\n",
       "    </tr>\n",
       "    <tr>\n",
       "      <th>2</th>\n",
       "      <td>2</td>\n",
       "      <td>13187</td>\n",
       "      <td>41.387</td>\n",
       "      <td>-81.974</td>\n",
       "      <td>2</td>\n",
       "      <td>9</td>\n",
       "      <td>7</td>\n",
       "      <td>0.465562</td>\n",
       "      <td>41.391666</td>\n",
       "      <td>-81.96753</td>\n",
       "    </tr>\n",
       "    <tr>\n",
       "      <th>3</th>\n",
       "      <td>3</td>\n",
       "      <td>13188</td>\n",
       "      <td>41.388</td>\n",
       "      <td>-81.974</td>\n",
       "      <td>2</td>\n",
       "      <td>9</td>\n",
       "      <td>7</td>\n",
       "      <td>0.420792</td>\n",
       "      <td>41.391666</td>\n",
       "      <td>-81.96753</td>\n",
       "    </tr>\n",
       "    <tr>\n",
       "      <th>4</th>\n",
       "      <td>4</td>\n",
       "      <td>13189</td>\n",
       "      <td>41.389</td>\n",
       "      <td>-81.974</td>\n",
       "      <td>2</td>\n",
       "      <td>9</td>\n",
       "      <td>7</td>\n",
       "      <td>0.383287</td>\n",
       "      <td>41.391666</td>\n",
       "      <td>-81.96753</td>\n",
       "    </tr>\n",
       "  </tbody>\n",
       "</table>\n",
       "</div>"
      ],
      "text/plain": [
       "   Unnamed: 0  Unnamed: 0.1  addr_lat  addr_lon  surrounding_stops  \\\n",
       "0           0         13185    41.385   -81.974                  2   \n",
       "1           1         13186    41.386   -81.974                  2   \n",
       "2           2         13187    41.387   -81.974                  2   \n",
       "3           3         13188    41.388   -81.974                  2   \n",
       "4           4         13189    41.389   -81.974                  2   \n",
       "\n",
       "   surrounding_stops_a_mile  subtraction  distance   stop_lat  stop_lon  \n",
       "0                         9            7  0.569814  41.391666 -81.96753  \n",
       "1                         9            7  0.515709  41.391666 -81.96753  \n",
       "2                         9            7  0.465562  41.391666 -81.96753  \n",
       "3                         9            7  0.420792  41.391666 -81.96753  \n",
       "4                         9            7  0.383287  41.391666 -81.96753  "
      ]
     },
     "execution_count": 7,
     "metadata": {},
     "output_type": "execute_result"
    }
   ],
   "source": [
    "df_83k.head()"
   ]
  },
  {
   "cell_type": "code",
   "execution_count": 9,
   "metadata": {
    "collapsed": false
   },
   "outputs": [],
   "source": [
    "df_83k.loc[0, \"walking_time\"]= getWalkingTime(df_83k.loc[0, \"addr_lat\"],df_83k.loc[0, \"addr_lon\"], df_83k.loc[0, \"stop_lat\"], df_83k.loc[0, \"stop_lon\"])"
   ]
  },
  {
   "cell_type": "code",
   "execution_count": 10,
   "metadata": {
    "collapsed": false
   },
   "outputs": [
    {
     "data": {
      "text/html": [
       "<div>\n",
       "<table border=\"1\" class=\"dataframe\">\n",
       "  <thead>\n",
       "    <tr style=\"text-align: right;\">\n",
       "      <th></th>\n",
       "      <th>Unnamed: 0</th>\n",
       "      <th>Unnamed: 0.1</th>\n",
       "      <th>addr_lat</th>\n",
       "      <th>addr_lon</th>\n",
       "      <th>surrounding_stops</th>\n",
       "      <th>surrounding_stops_a_mile</th>\n",
       "      <th>subtraction</th>\n",
       "      <th>distance</th>\n",
       "      <th>stop_lat</th>\n",
       "      <th>stop_lon</th>\n",
       "      <th>walking_time</th>\n",
       "    </tr>\n",
       "  </thead>\n",
       "  <tbody>\n",
       "    <tr>\n",
       "      <th>0</th>\n",
       "      <td>0</td>\n",
       "      <td>13185</td>\n",
       "      <td>41.385</td>\n",
       "      <td>-81.974</td>\n",
       "      <td>2</td>\n",
       "      <td>9</td>\n",
       "      <td>7</td>\n",
       "      <td>0.569814</td>\n",
       "      <td>41.391666</td>\n",
       "      <td>-81.96753</td>\n",
       "      <td>985</td>\n",
       "    </tr>\n",
       "    <tr>\n",
       "      <th>1</th>\n",
       "      <td>1</td>\n",
       "      <td>13186</td>\n",
       "      <td>41.386</td>\n",
       "      <td>-81.974</td>\n",
       "      <td>2</td>\n",
       "      <td>9</td>\n",
       "      <td>7</td>\n",
       "      <td>0.515709</td>\n",
       "      <td>41.391666</td>\n",
       "      <td>-81.96753</td>\n",
       "      <td>NaN</td>\n",
       "    </tr>\n",
       "    <tr>\n",
       "      <th>2</th>\n",
       "      <td>2</td>\n",
       "      <td>13187</td>\n",
       "      <td>41.387</td>\n",
       "      <td>-81.974</td>\n",
       "      <td>2</td>\n",
       "      <td>9</td>\n",
       "      <td>7</td>\n",
       "      <td>0.465562</td>\n",
       "      <td>41.391666</td>\n",
       "      <td>-81.96753</td>\n",
       "      <td>NaN</td>\n",
       "    </tr>\n",
       "    <tr>\n",
       "      <th>3</th>\n",
       "      <td>3</td>\n",
       "      <td>13188</td>\n",
       "      <td>41.388</td>\n",
       "      <td>-81.974</td>\n",
       "      <td>2</td>\n",
       "      <td>9</td>\n",
       "      <td>7</td>\n",
       "      <td>0.420792</td>\n",
       "      <td>41.391666</td>\n",
       "      <td>-81.96753</td>\n",
       "      <td>NaN</td>\n",
       "    </tr>\n",
       "    <tr>\n",
       "      <th>4</th>\n",
       "      <td>4</td>\n",
       "      <td>13189</td>\n",
       "      <td>41.389</td>\n",
       "      <td>-81.974</td>\n",
       "      <td>2</td>\n",
       "      <td>9</td>\n",
       "      <td>7</td>\n",
       "      <td>0.383287</td>\n",
       "      <td>41.391666</td>\n",
       "      <td>-81.96753</td>\n",
       "      <td>NaN</td>\n",
       "    </tr>\n",
       "  </tbody>\n",
       "</table>\n",
       "</div>"
      ],
      "text/plain": [
       "   Unnamed: 0  Unnamed: 0.1  addr_lat  addr_lon  surrounding_stops  \\\n",
       "0           0         13185    41.385   -81.974                  2   \n",
       "1           1         13186    41.386   -81.974                  2   \n",
       "2           2         13187    41.387   -81.974                  2   \n",
       "3           3         13188    41.388   -81.974                  2   \n",
       "4           4         13189    41.389   -81.974                  2   \n",
       "\n",
       "   surrounding_stops_a_mile  subtraction  distance   stop_lat  stop_lon  \\\n",
       "0                         9            7  0.569814  41.391666 -81.96753   \n",
       "1                         9            7  0.515709  41.391666 -81.96753   \n",
       "2                         9            7  0.465562  41.391666 -81.96753   \n",
       "3                         9            7  0.420792  41.391666 -81.96753   \n",
       "4                         9            7  0.383287  41.391666 -81.96753   \n",
       "\n",
       "   walking_time  \n",
       "0           985  \n",
       "1           NaN  \n",
       "2           NaN  \n",
       "3           NaN  \n",
       "4           NaN  "
      ]
     },
     "execution_count": 10,
     "metadata": {},
     "output_type": "execute_result"
    }
   ],
   "source": [
    "df_83k.head()"
   ]
  },
  {
   "cell_type": "code",
   "execution_count": 11,
   "metadata": {
    "collapsed": true
   },
   "outputs": [],
   "source": [
    "for x in range(5):\n",
    "    df_83k.loc[x, \"walking_time\"]= getWalkingTime(df_83k.loc[x, \"addr_lat\"],df_83k.loc[x, \"addr_lon\"], df_83k.loc[x, \"stop_lat\"], df_83k.loc[x, \"stop_lon\"])"
   ]
  },
  {
   "cell_type": "code",
   "execution_count": 12,
   "metadata": {
    "collapsed": false
   },
   "outputs": [
    {
     "data": {
      "text/html": [
       "<div>\n",
       "<table border=\"1\" class=\"dataframe\">\n",
       "  <thead>\n",
       "    <tr style=\"text-align: right;\">\n",
       "      <th></th>\n",
       "      <th>Unnamed: 0</th>\n",
       "      <th>Unnamed: 0.1</th>\n",
       "      <th>addr_lat</th>\n",
       "      <th>addr_lon</th>\n",
       "      <th>surrounding_stops</th>\n",
       "      <th>surrounding_stops_a_mile</th>\n",
       "      <th>subtraction</th>\n",
       "      <th>distance</th>\n",
       "      <th>stop_lat</th>\n",
       "      <th>stop_lon</th>\n",
       "      <th>walking_time</th>\n",
       "    </tr>\n",
       "  </thead>\n",
       "  <tbody>\n",
       "    <tr>\n",
       "      <th>0</th>\n",
       "      <td>0</td>\n",
       "      <td>13185</td>\n",
       "      <td>41.385</td>\n",
       "      <td>-81.974</td>\n",
       "      <td>2</td>\n",
       "      <td>9</td>\n",
       "      <td>7</td>\n",
       "      <td>0.569814</td>\n",
       "      <td>41.391666</td>\n",
       "      <td>-81.96753</td>\n",
       "      <td>985</td>\n",
       "    </tr>\n",
       "    <tr>\n",
       "      <th>1</th>\n",
       "      <td>1</td>\n",
       "      <td>13186</td>\n",
       "      <td>41.386</td>\n",
       "      <td>-81.974</td>\n",
       "      <td>2</td>\n",
       "      <td>9</td>\n",
       "      <td>7</td>\n",
       "      <td>0.515709</td>\n",
       "      <td>41.391666</td>\n",
       "      <td>-81.96753</td>\n",
       "      <td>618</td>\n",
       "    </tr>\n",
       "    <tr>\n",
       "      <th>2</th>\n",
       "      <td>2</td>\n",
       "      <td>13187</td>\n",
       "      <td>41.387</td>\n",
       "      <td>-81.974</td>\n",
       "      <td>2</td>\n",
       "      <td>9</td>\n",
       "      <td>7</td>\n",
       "      <td>0.465562</td>\n",
       "      <td>41.391666</td>\n",
       "      <td>-81.96753</td>\n",
       "      <td>562</td>\n",
       "    </tr>\n",
       "    <tr>\n",
       "      <th>3</th>\n",
       "      <td>3</td>\n",
       "      <td>13188</td>\n",
       "      <td>41.388</td>\n",
       "      <td>-81.974</td>\n",
       "      <td>2</td>\n",
       "      <td>9</td>\n",
       "      <td>7</td>\n",
       "      <td>0.420792</td>\n",
       "      <td>41.391666</td>\n",
       "      <td>-81.96753</td>\n",
       "      <td>506</td>\n",
       "    </tr>\n",
       "    <tr>\n",
       "      <th>4</th>\n",
       "      <td>4</td>\n",
       "      <td>13189</td>\n",
       "      <td>41.389</td>\n",
       "      <td>-81.974</td>\n",
       "      <td>2</td>\n",
       "      <td>9</td>\n",
       "      <td>7</td>\n",
       "      <td>0.383287</td>\n",
       "      <td>41.391666</td>\n",
       "      <td>-81.96753</td>\n",
       "      <td>459</td>\n",
       "    </tr>\n",
       "  </tbody>\n",
       "</table>\n",
       "</div>"
      ],
      "text/plain": [
       "   Unnamed: 0  Unnamed: 0.1  addr_lat  addr_lon  surrounding_stops  \\\n",
       "0           0         13185    41.385   -81.974                  2   \n",
       "1           1         13186    41.386   -81.974                  2   \n",
       "2           2         13187    41.387   -81.974                  2   \n",
       "3           3         13188    41.388   -81.974                  2   \n",
       "4           4         13189    41.389   -81.974                  2   \n",
       "\n",
       "   surrounding_stops_a_mile  subtraction  distance   stop_lat  stop_lon  \\\n",
       "0                         9            7  0.569814  41.391666 -81.96753   \n",
       "1                         9            7  0.515709  41.391666 -81.96753   \n",
       "2                         9            7  0.465562  41.391666 -81.96753   \n",
       "3                         9            7  0.420792  41.391666 -81.96753   \n",
       "4                         9            7  0.383287  41.391666 -81.96753   \n",
       "\n",
       "   walking_time  \n",
       "0           985  \n",
       "1           618  \n",
       "2           562  \n",
       "3           506  \n",
       "4           459  "
      ]
     },
     "execution_count": 12,
     "metadata": {},
     "output_type": "execute_result"
    }
   ],
   "source": [
    "df_83k.head()"
   ]
  },
  {
   "cell_type": "code",
   "execution_count": 14,
   "metadata": {
    "collapsed": false
   },
   "outputs": [
    {
     "name": "stdout",
     "output_type": "stream",
     "text": [
      "CPU times: user 2 µs, sys: 0 ns, total: 2 µs\n",
      "Wall time: 5.01 µs\n"
     ]
    },
    {
     "data": {
      "text/plain": [
       "7625597484987"
      ]
     },
     "execution_count": 14,
     "metadata": {},
     "output_type": "execute_result"
    }
   ],
   "source": [
    "%time\n",
    "3**3**3"
   ]
  },
  {
   "cell_type": "code",
   "execution_count": 18,
   "metadata": {
    "collapsed": false
   },
   "outputs": [
    {
     "name": "stdout",
     "output_type": "stream",
     "text": [
      "CPU times: user 2 µs, sys: 1e+03 ns, total: 3 µs\n",
      "Wall time: 5.96 µs\n"
     ]
    }
   ],
   "source": [
    "%time\n",
    "\n",
    "for x in range(5,10):\n",
    "    df_83k.loc[x, \"walking_time\"]= getWalkingTime(df_83k.loc[x, \"addr_lat\"],df_83k.loc[x, \"addr_lon\"], df_83k.loc[x, \"stop_lat\"], df_83k.loc[x, \"stop_lon\"])"
   ]
  },
  {
   "cell_type": "code",
   "execution_count": 17,
   "metadata": {
    "collapsed": false
   },
   "outputs": [
    {
     "data": {
      "text/plain": [
       "[5, 6, 7, 8, 9]"
      ]
     },
     "execution_count": 17,
     "metadata": {},
     "output_type": "execute_result"
    }
   ],
   "source": [
    "list(range(5,10))"
   ]
  },
  {
   "cell_type": "code",
   "execution_count": 19,
   "metadata": {
    "collapsed": false
   },
   "outputs": [
    {
     "data": {
      "text/html": [
       "<div>\n",
       "<table border=\"1\" class=\"dataframe\">\n",
       "  <thead>\n",
       "    <tr style=\"text-align: right;\">\n",
       "      <th></th>\n",
       "      <th>Unnamed: 0</th>\n",
       "      <th>Unnamed: 0.1</th>\n",
       "      <th>addr_lat</th>\n",
       "      <th>addr_lon</th>\n",
       "      <th>surrounding_stops</th>\n",
       "      <th>surrounding_stops_a_mile</th>\n",
       "      <th>subtraction</th>\n",
       "      <th>distance</th>\n",
       "      <th>stop_lat</th>\n",
       "      <th>stop_lon</th>\n",
       "      <th>walking_time</th>\n",
       "    </tr>\n",
       "  </thead>\n",
       "  <tbody>\n",
       "    <tr>\n",
       "      <th>0</th>\n",
       "      <td>0</td>\n",
       "      <td>13185</td>\n",
       "      <td>41.385</td>\n",
       "      <td>-81.974</td>\n",
       "      <td>2</td>\n",
       "      <td>9</td>\n",
       "      <td>7</td>\n",
       "      <td>0.569814</td>\n",
       "      <td>41.391666</td>\n",
       "      <td>-81.96753</td>\n",
       "      <td>985</td>\n",
       "    </tr>\n",
       "    <tr>\n",
       "      <th>1</th>\n",
       "      <td>1</td>\n",
       "      <td>13186</td>\n",
       "      <td>41.386</td>\n",
       "      <td>-81.974</td>\n",
       "      <td>2</td>\n",
       "      <td>9</td>\n",
       "      <td>7</td>\n",
       "      <td>0.515709</td>\n",
       "      <td>41.391666</td>\n",
       "      <td>-81.96753</td>\n",
       "      <td>618</td>\n",
       "    </tr>\n",
       "    <tr>\n",
       "      <th>2</th>\n",
       "      <td>2</td>\n",
       "      <td>13187</td>\n",
       "      <td>41.387</td>\n",
       "      <td>-81.974</td>\n",
       "      <td>2</td>\n",
       "      <td>9</td>\n",
       "      <td>7</td>\n",
       "      <td>0.465562</td>\n",
       "      <td>41.391666</td>\n",
       "      <td>-81.96753</td>\n",
       "      <td>562</td>\n",
       "    </tr>\n",
       "    <tr>\n",
       "      <th>3</th>\n",
       "      <td>3</td>\n",
       "      <td>13188</td>\n",
       "      <td>41.388</td>\n",
       "      <td>-81.974</td>\n",
       "      <td>2</td>\n",
       "      <td>9</td>\n",
       "      <td>7</td>\n",
       "      <td>0.420792</td>\n",
       "      <td>41.391666</td>\n",
       "      <td>-81.96753</td>\n",
       "      <td>506</td>\n",
       "    </tr>\n",
       "    <tr>\n",
       "      <th>4</th>\n",
       "      <td>4</td>\n",
       "      <td>13189</td>\n",
       "      <td>41.389</td>\n",
       "      <td>-81.974</td>\n",
       "      <td>2</td>\n",
       "      <td>9</td>\n",
       "      <td>7</td>\n",
       "      <td>0.383287</td>\n",
       "      <td>41.391666</td>\n",
       "      <td>-81.96753</td>\n",
       "      <td>459</td>\n",
       "    </tr>\n",
       "    <tr>\n",
       "      <th>5</th>\n",
       "      <td>5</td>\n",
       "      <td>13190</td>\n",
       "      <td>41.390</td>\n",
       "      <td>-81.974</td>\n",
       "      <td>2</td>\n",
       "      <td>9</td>\n",
       "      <td>7</td>\n",
       "      <td>0.355353</td>\n",
       "      <td>41.391666</td>\n",
       "      <td>-81.96753</td>\n",
       "      <td>1492</td>\n",
       "    </tr>\n",
       "    <tr>\n",
       "      <th>6</th>\n",
       "      <td>6</td>\n",
       "      <td>13191</td>\n",
       "      <td>41.391</td>\n",
       "      <td>-81.974</td>\n",
       "      <td>2</td>\n",
       "      <td>9</td>\n",
       "      <td>7</td>\n",
       "      <td>0.339365</td>\n",
       "      <td>41.391666</td>\n",
       "      <td>-81.96753</td>\n",
       "      <td>1498</td>\n",
       "    </tr>\n",
       "    <tr>\n",
       "      <th>7</th>\n",
       "      <td>7</td>\n",
       "      <td>13192</td>\n",
       "      <td>41.392</td>\n",
       "      <td>-81.974</td>\n",
       "      <td>2</td>\n",
       "      <td>9</td>\n",
       "      <td>7</td>\n",
       "      <td>0.337024</td>\n",
       "      <td>41.391666</td>\n",
       "      <td>-81.96753</td>\n",
       "      <td>1504</td>\n",
       "    </tr>\n",
       "    <tr>\n",
       "      <th>8</th>\n",
       "      <td>8</td>\n",
       "      <td>13193</td>\n",
       "      <td>41.393</td>\n",
       "      <td>-81.974</td>\n",
       "      <td>2</td>\n",
       "      <td>9</td>\n",
       "      <td>7</td>\n",
       "      <td>0.348608</td>\n",
       "      <td>41.391666</td>\n",
       "      <td>-81.96753</td>\n",
       "      <td>1672</td>\n",
       "    </tr>\n",
       "    <tr>\n",
       "      <th>9</th>\n",
       "      <td>9</td>\n",
       "      <td>13194</td>\n",
       "      <td>41.394</td>\n",
       "      <td>-81.974</td>\n",
       "      <td>2</td>\n",
       "      <td>9</td>\n",
       "      <td>7</td>\n",
       "      <td>0.372819</td>\n",
       "      <td>41.391666</td>\n",
       "      <td>-81.96753</td>\n",
       "      <td>1725</td>\n",
       "    </tr>\n",
       "  </tbody>\n",
       "</table>\n",
       "</div>"
      ],
      "text/plain": [
       "   Unnamed: 0  Unnamed: 0.1  addr_lat  addr_lon  surrounding_stops  \\\n",
       "0           0         13185    41.385   -81.974                  2   \n",
       "1           1         13186    41.386   -81.974                  2   \n",
       "2           2         13187    41.387   -81.974                  2   \n",
       "3           3         13188    41.388   -81.974                  2   \n",
       "4           4         13189    41.389   -81.974                  2   \n",
       "5           5         13190    41.390   -81.974                  2   \n",
       "6           6         13191    41.391   -81.974                  2   \n",
       "7           7         13192    41.392   -81.974                  2   \n",
       "8           8         13193    41.393   -81.974                  2   \n",
       "9           9         13194    41.394   -81.974                  2   \n",
       "\n",
       "   surrounding_stops_a_mile  subtraction  distance   stop_lat  stop_lon  \\\n",
       "0                         9            7  0.569814  41.391666 -81.96753   \n",
       "1                         9            7  0.515709  41.391666 -81.96753   \n",
       "2                         9            7  0.465562  41.391666 -81.96753   \n",
       "3                         9            7  0.420792  41.391666 -81.96753   \n",
       "4                         9            7  0.383287  41.391666 -81.96753   \n",
       "5                         9            7  0.355353  41.391666 -81.96753   \n",
       "6                         9            7  0.339365  41.391666 -81.96753   \n",
       "7                         9            7  0.337024  41.391666 -81.96753   \n",
       "8                         9            7  0.348608  41.391666 -81.96753   \n",
       "9                         9            7  0.372819  41.391666 -81.96753   \n",
       "\n",
       "   walking_time  \n",
       "0           985  \n",
       "1           618  \n",
       "2           562  \n",
       "3           506  \n",
       "4           459  \n",
       "5          1492  \n",
       "6          1498  \n",
       "7          1504  \n",
       "8          1672  \n",
       "9          1725  "
      ]
     },
     "execution_count": 19,
     "metadata": {},
     "output_type": "execute_result"
    }
   ],
   "source": [
    "df_83k.head(10)"
   ]
  },
  {
   "cell_type": "code",
   "execution_count": 20,
   "metadata": {
    "collapsed": true
   },
   "outputs": [],
   "source": [
    "\n",
    "for x in range(10):\n",
    "    df_83k.loc[x, \"walking_time\"]= getWalkingTime(df_83k.loc[x, \"addr_lat\"],df_83k.loc[x, \"addr_lon\"], df_83k.loc[x, \"stop_lat\"], df_83k.loc[x, \"stop_lon\"])"
   ]
  },
  {
   "cell_type": "code",
   "execution_count": 21,
   "metadata": {
    "collapsed": false
   },
   "outputs": [
    {
     "data": {
      "text/html": [
       "<div>\n",
       "<table border=\"1\" class=\"dataframe\">\n",
       "  <thead>\n",
       "    <tr style=\"text-align: right;\">\n",
       "      <th></th>\n",
       "      <th>Unnamed: 0</th>\n",
       "      <th>Unnamed: 0.1</th>\n",
       "      <th>addr_lat</th>\n",
       "      <th>addr_lon</th>\n",
       "      <th>surrounding_stops</th>\n",
       "      <th>surrounding_stops_a_mile</th>\n",
       "      <th>subtraction</th>\n",
       "      <th>distance</th>\n",
       "      <th>stop_lat</th>\n",
       "      <th>stop_lon</th>\n",
       "      <th>walking_time</th>\n",
       "    </tr>\n",
       "  </thead>\n",
       "  <tbody>\n",
       "    <tr>\n",
       "      <th>0</th>\n",
       "      <td>0</td>\n",
       "      <td>13185</td>\n",
       "      <td>41.385</td>\n",
       "      <td>-81.974</td>\n",
       "      <td>2</td>\n",
       "      <td>9</td>\n",
       "      <td>7</td>\n",
       "      <td>0.569814</td>\n",
       "      <td>41.391666</td>\n",
       "      <td>-81.96753</td>\n",
       "      <td>985</td>\n",
       "    </tr>\n",
       "    <tr>\n",
       "      <th>1</th>\n",
       "      <td>1</td>\n",
       "      <td>13186</td>\n",
       "      <td>41.386</td>\n",
       "      <td>-81.974</td>\n",
       "      <td>2</td>\n",
       "      <td>9</td>\n",
       "      <td>7</td>\n",
       "      <td>0.515709</td>\n",
       "      <td>41.391666</td>\n",
       "      <td>-81.96753</td>\n",
       "      <td>618</td>\n",
       "    </tr>\n",
       "    <tr>\n",
       "      <th>2</th>\n",
       "      <td>2</td>\n",
       "      <td>13187</td>\n",
       "      <td>41.387</td>\n",
       "      <td>-81.974</td>\n",
       "      <td>2</td>\n",
       "      <td>9</td>\n",
       "      <td>7</td>\n",
       "      <td>0.465562</td>\n",
       "      <td>41.391666</td>\n",
       "      <td>-81.96753</td>\n",
       "      <td>562</td>\n",
       "    </tr>\n",
       "    <tr>\n",
       "      <th>3</th>\n",
       "      <td>3</td>\n",
       "      <td>13188</td>\n",
       "      <td>41.388</td>\n",
       "      <td>-81.974</td>\n",
       "      <td>2</td>\n",
       "      <td>9</td>\n",
       "      <td>7</td>\n",
       "      <td>0.420792</td>\n",
       "      <td>41.391666</td>\n",
       "      <td>-81.96753</td>\n",
       "      <td>506</td>\n",
       "    </tr>\n",
       "    <tr>\n",
       "      <th>4</th>\n",
       "      <td>4</td>\n",
       "      <td>13189</td>\n",
       "      <td>41.389</td>\n",
       "      <td>-81.974</td>\n",
       "      <td>2</td>\n",
       "      <td>9</td>\n",
       "      <td>7</td>\n",
       "      <td>0.383287</td>\n",
       "      <td>41.391666</td>\n",
       "      <td>-81.96753</td>\n",
       "      <td>459</td>\n",
       "    </tr>\n",
       "    <tr>\n",
       "      <th>5</th>\n",
       "      <td>5</td>\n",
       "      <td>13190</td>\n",
       "      <td>41.390</td>\n",
       "      <td>-81.974</td>\n",
       "      <td>2</td>\n",
       "      <td>9</td>\n",
       "      <td>7</td>\n",
       "      <td>0.355353</td>\n",
       "      <td>41.391666</td>\n",
       "      <td>-81.96753</td>\n",
       "      <td>1492</td>\n",
       "    </tr>\n",
       "    <tr>\n",
       "      <th>6</th>\n",
       "      <td>6</td>\n",
       "      <td>13191</td>\n",
       "      <td>41.391</td>\n",
       "      <td>-81.974</td>\n",
       "      <td>2</td>\n",
       "      <td>9</td>\n",
       "      <td>7</td>\n",
       "      <td>0.339365</td>\n",
       "      <td>41.391666</td>\n",
       "      <td>-81.96753</td>\n",
       "      <td>1498</td>\n",
       "    </tr>\n",
       "    <tr>\n",
       "      <th>7</th>\n",
       "      <td>7</td>\n",
       "      <td>13192</td>\n",
       "      <td>41.392</td>\n",
       "      <td>-81.974</td>\n",
       "      <td>2</td>\n",
       "      <td>9</td>\n",
       "      <td>7</td>\n",
       "      <td>0.337024</td>\n",
       "      <td>41.391666</td>\n",
       "      <td>-81.96753</td>\n",
       "      <td>1504</td>\n",
       "    </tr>\n",
       "    <tr>\n",
       "      <th>8</th>\n",
       "      <td>8</td>\n",
       "      <td>13193</td>\n",
       "      <td>41.393</td>\n",
       "      <td>-81.974</td>\n",
       "      <td>2</td>\n",
       "      <td>9</td>\n",
       "      <td>7</td>\n",
       "      <td>0.348608</td>\n",
       "      <td>41.391666</td>\n",
       "      <td>-81.96753</td>\n",
       "      <td>1672</td>\n",
       "    </tr>\n",
       "    <tr>\n",
       "      <th>9</th>\n",
       "      <td>9</td>\n",
       "      <td>13194</td>\n",
       "      <td>41.394</td>\n",
       "      <td>-81.974</td>\n",
       "      <td>2</td>\n",
       "      <td>9</td>\n",
       "      <td>7</td>\n",
       "      <td>0.372819</td>\n",
       "      <td>41.391666</td>\n",
       "      <td>-81.96753</td>\n",
       "      <td>1725</td>\n",
       "    </tr>\n",
       "  </tbody>\n",
       "</table>\n",
       "</div>"
      ],
      "text/plain": [
       "   Unnamed: 0  Unnamed: 0.1  addr_lat  addr_lon  surrounding_stops  \\\n",
       "0           0         13185    41.385   -81.974                  2   \n",
       "1           1         13186    41.386   -81.974                  2   \n",
       "2           2         13187    41.387   -81.974                  2   \n",
       "3           3         13188    41.388   -81.974                  2   \n",
       "4           4         13189    41.389   -81.974                  2   \n",
       "5           5         13190    41.390   -81.974                  2   \n",
       "6           6         13191    41.391   -81.974                  2   \n",
       "7           7         13192    41.392   -81.974                  2   \n",
       "8           8         13193    41.393   -81.974                  2   \n",
       "9           9         13194    41.394   -81.974                  2   \n",
       "\n",
       "   surrounding_stops_a_mile  subtraction  distance   stop_lat  stop_lon  \\\n",
       "0                         9            7  0.569814  41.391666 -81.96753   \n",
       "1                         9            7  0.515709  41.391666 -81.96753   \n",
       "2                         9            7  0.465562  41.391666 -81.96753   \n",
       "3                         9            7  0.420792  41.391666 -81.96753   \n",
       "4                         9            7  0.383287  41.391666 -81.96753   \n",
       "5                         9            7  0.355353  41.391666 -81.96753   \n",
       "6                         9            7  0.339365  41.391666 -81.96753   \n",
       "7                         9            7  0.337024  41.391666 -81.96753   \n",
       "8                         9            7  0.348608  41.391666 -81.96753   \n",
       "9                         9            7  0.372819  41.391666 -81.96753   \n",
       "\n",
       "   walking_time  \n",
       "0           985  \n",
       "1           618  \n",
       "2           562  \n",
       "3           506  \n",
       "4           459  \n",
       "5          1492  \n",
       "6          1498  \n",
       "7          1504  \n",
       "8          1672  \n",
       "9          1725  "
      ]
     },
     "execution_count": 21,
     "metadata": {},
     "output_type": "execute_result"
    }
   ],
   "source": [
    "df_83k.head(10)"
   ]
  },
  {
   "cell_type": "code",
   "execution_count": 22,
   "metadata": {
    "collapsed": true
   },
   "outputs": [],
   "source": [
    "df =df_83k.head(10)"
   ]
  },
  {
   "cell_type": "code",
   "execution_count": 23,
   "metadata": {
    "collapsed": false
   },
   "outputs": [
    {
     "data": {
      "text/html": [
       "<div>\n",
       "<table border=\"1\" class=\"dataframe\">\n",
       "  <thead>\n",
       "    <tr style=\"text-align: right;\">\n",
       "      <th></th>\n",
       "      <th>Unnamed: 0</th>\n",
       "      <th>Unnamed: 0.1</th>\n",
       "      <th>addr_lat</th>\n",
       "      <th>addr_lon</th>\n",
       "      <th>surrounding_stops</th>\n",
       "      <th>surrounding_stops_a_mile</th>\n",
       "      <th>subtraction</th>\n",
       "      <th>distance</th>\n",
       "      <th>stop_lat</th>\n",
       "      <th>stop_lon</th>\n",
       "      <th>walking_time</th>\n",
       "    </tr>\n",
       "  </thead>\n",
       "  <tbody>\n",
       "    <tr>\n",
       "      <th>0</th>\n",
       "      <td>0</td>\n",
       "      <td>13185</td>\n",
       "      <td>41.385</td>\n",
       "      <td>-81.974</td>\n",
       "      <td>2</td>\n",
       "      <td>9</td>\n",
       "      <td>7</td>\n",
       "      <td>0.569814</td>\n",
       "      <td>41.391666</td>\n",
       "      <td>-81.96753</td>\n",
       "      <td>985</td>\n",
       "    </tr>\n",
       "    <tr>\n",
       "      <th>1</th>\n",
       "      <td>1</td>\n",
       "      <td>13186</td>\n",
       "      <td>41.386</td>\n",
       "      <td>-81.974</td>\n",
       "      <td>2</td>\n",
       "      <td>9</td>\n",
       "      <td>7</td>\n",
       "      <td>0.515709</td>\n",
       "      <td>41.391666</td>\n",
       "      <td>-81.96753</td>\n",
       "      <td>618</td>\n",
       "    </tr>\n",
       "    <tr>\n",
       "      <th>2</th>\n",
       "      <td>2</td>\n",
       "      <td>13187</td>\n",
       "      <td>41.387</td>\n",
       "      <td>-81.974</td>\n",
       "      <td>2</td>\n",
       "      <td>9</td>\n",
       "      <td>7</td>\n",
       "      <td>0.465562</td>\n",
       "      <td>41.391666</td>\n",
       "      <td>-81.96753</td>\n",
       "      <td>562</td>\n",
       "    </tr>\n",
       "    <tr>\n",
       "      <th>3</th>\n",
       "      <td>3</td>\n",
       "      <td>13188</td>\n",
       "      <td>41.388</td>\n",
       "      <td>-81.974</td>\n",
       "      <td>2</td>\n",
       "      <td>9</td>\n",
       "      <td>7</td>\n",
       "      <td>0.420792</td>\n",
       "      <td>41.391666</td>\n",
       "      <td>-81.96753</td>\n",
       "      <td>506</td>\n",
       "    </tr>\n",
       "    <tr>\n",
       "      <th>4</th>\n",
       "      <td>4</td>\n",
       "      <td>13189</td>\n",
       "      <td>41.389</td>\n",
       "      <td>-81.974</td>\n",
       "      <td>2</td>\n",
       "      <td>9</td>\n",
       "      <td>7</td>\n",
       "      <td>0.383287</td>\n",
       "      <td>41.391666</td>\n",
       "      <td>-81.96753</td>\n",
       "      <td>459</td>\n",
       "    </tr>\n",
       "    <tr>\n",
       "      <th>5</th>\n",
       "      <td>5</td>\n",
       "      <td>13190</td>\n",
       "      <td>41.390</td>\n",
       "      <td>-81.974</td>\n",
       "      <td>2</td>\n",
       "      <td>9</td>\n",
       "      <td>7</td>\n",
       "      <td>0.355353</td>\n",
       "      <td>41.391666</td>\n",
       "      <td>-81.96753</td>\n",
       "      <td>1492</td>\n",
       "    </tr>\n",
       "    <tr>\n",
       "      <th>6</th>\n",
       "      <td>6</td>\n",
       "      <td>13191</td>\n",
       "      <td>41.391</td>\n",
       "      <td>-81.974</td>\n",
       "      <td>2</td>\n",
       "      <td>9</td>\n",
       "      <td>7</td>\n",
       "      <td>0.339365</td>\n",
       "      <td>41.391666</td>\n",
       "      <td>-81.96753</td>\n",
       "      <td>1498</td>\n",
       "    </tr>\n",
       "    <tr>\n",
       "      <th>7</th>\n",
       "      <td>7</td>\n",
       "      <td>13192</td>\n",
       "      <td>41.392</td>\n",
       "      <td>-81.974</td>\n",
       "      <td>2</td>\n",
       "      <td>9</td>\n",
       "      <td>7</td>\n",
       "      <td>0.337024</td>\n",
       "      <td>41.391666</td>\n",
       "      <td>-81.96753</td>\n",
       "      <td>1504</td>\n",
       "    </tr>\n",
       "    <tr>\n",
       "      <th>8</th>\n",
       "      <td>8</td>\n",
       "      <td>13193</td>\n",
       "      <td>41.393</td>\n",
       "      <td>-81.974</td>\n",
       "      <td>2</td>\n",
       "      <td>9</td>\n",
       "      <td>7</td>\n",
       "      <td>0.348608</td>\n",
       "      <td>41.391666</td>\n",
       "      <td>-81.96753</td>\n",
       "      <td>1672</td>\n",
       "    </tr>\n",
       "    <tr>\n",
       "      <th>9</th>\n",
       "      <td>9</td>\n",
       "      <td>13194</td>\n",
       "      <td>41.394</td>\n",
       "      <td>-81.974</td>\n",
       "      <td>2</td>\n",
       "      <td>9</td>\n",
       "      <td>7</td>\n",
       "      <td>0.372819</td>\n",
       "      <td>41.391666</td>\n",
       "      <td>-81.96753</td>\n",
       "      <td>1725</td>\n",
       "    </tr>\n",
       "  </tbody>\n",
       "</table>\n",
       "</div>"
      ],
      "text/plain": [
       "   Unnamed: 0  Unnamed: 0.1  addr_lat  addr_lon  surrounding_stops  \\\n",
       "0           0         13185    41.385   -81.974                  2   \n",
       "1           1         13186    41.386   -81.974                  2   \n",
       "2           2         13187    41.387   -81.974                  2   \n",
       "3           3         13188    41.388   -81.974                  2   \n",
       "4           4         13189    41.389   -81.974                  2   \n",
       "5           5         13190    41.390   -81.974                  2   \n",
       "6           6         13191    41.391   -81.974                  2   \n",
       "7           7         13192    41.392   -81.974                  2   \n",
       "8           8         13193    41.393   -81.974                  2   \n",
       "9           9         13194    41.394   -81.974                  2   \n",
       "\n",
       "   surrounding_stops_a_mile  subtraction  distance   stop_lat  stop_lon  \\\n",
       "0                         9            7  0.569814  41.391666 -81.96753   \n",
       "1                         9            7  0.515709  41.391666 -81.96753   \n",
       "2                         9            7  0.465562  41.391666 -81.96753   \n",
       "3                         9            7  0.420792  41.391666 -81.96753   \n",
       "4                         9            7  0.383287  41.391666 -81.96753   \n",
       "5                         9            7  0.355353  41.391666 -81.96753   \n",
       "6                         9            7  0.339365  41.391666 -81.96753   \n",
       "7                         9            7  0.337024  41.391666 -81.96753   \n",
       "8                         9            7  0.348608  41.391666 -81.96753   \n",
       "9                         9            7  0.372819  41.391666 -81.96753   \n",
       "\n",
       "   walking_time  \n",
       "0           985  \n",
       "1           618  \n",
       "2           562  \n",
       "3           506  \n",
       "4           459  \n",
       "5          1492  \n",
       "6          1498  \n",
       "7          1504  \n",
       "8          1672  \n",
       "9          1725  "
      ]
     },
     "execution_count": 23,
     "metadata": {},
     "output_type": "execute_result"
    }
   ],
   "source": [
    "df\n"
   ]
  },
  {
   "cell_type": "code",
   "execution_count": 24,
   "metadata": {
    "collapsed": true
   },
   "outputs": [],
   "source": [
    "df.DbyWT = df.distance/df.walking_time"
   ]
  },
  {
   "cell_type": "code",
   "execution_count": 25,
   "metadata": {
    "collapsed": false
   },
   "outputs": [
    {
     "data": {
      "text/html": [
       "<div>\n",
       "<table border=\"1\" class=\"dataframe\">\n",
       "  <thead>\n",
       "    <tr style=\"text-align: right;\">\n",
       "      <th></th>\n",
       "      <th>Unnamed: 0</th>\n",
       "      <th>Unnamed: 0.1</th>\n",
       "      <th>addr_lat</th>\n",
       "      <th>addr_lon</th>\n",
       "      <th>surrounding_stops</th>\n",
       "      <th>surrounding_stops_a_mile</th>\n",
       "      <th>subtraction</th>\n",
       "      <th>distance</th>\n",
       "      <th>stop_lat</th>\n",
       "      <th>stop_lon</th>\n",
       "      <th>walking_time</th>\n",
       "    </tr>\n",
       "  </thead>\n",
       "  <tbody>\n",
       "    <tr>\n",
       "      <th>0</th>\n",
       "      <td>0</td>\n",
       "      <td>13185</td>\n",
       "      <td>41.385</td>\n",
       "      <td>-81.974</td>\n",
       "      <td>2</td>\n",
       "      <td>9</td>\n",
       "      <td>7</td>\n",
       "      <td>0.569814</td>\n",
       "      <td>41.391666</td>\n",
       "      <td>-81.96753</td>\n",
       "      <td>985</td>\n",
       "    </tr>\n",
       "    <tr>\n",
       "      <th>1</th>\n",
       "      <td>1</td>\n",
       "      <td>13186</td>\n",
       "      <td>41.386</td>\n",
       "      <td>-81.974</td>\n",
       "      <td>2</td>\n",
       "      <td>9</td>\n",
       "      <td>7</td>\n",
       "      <td>0.515709</td>\n",
       "      <td>41.391666</td>\n",
       "      <td>-81.96753</td>\n",
       "      <td>618</td>\n",
       "    </tr>\n",
       "    <tr>\n",
       "      <th>2</th>\n",
       "      <td>2</td>\n",
       "      <td>13187</td>\n",
       "      <td>41.387</td>\n",
       "      <td>-81.974</td>\n",
       "      <td>2</td>\n",
       "      <td>9</td>\n",
       "      <td>7</td>\n",
       "      <td>0.465562</td>\n",
       "      <td>41.391666</td>\n",
       "      <td>-81.96753</td>\n",
       "      <td>562</td>\n",
       "    </tr>\n",
       "    <tr>\n",
       "      <th>3</th>\n",
       "      <td>3</td>\n",
       "      <td>13188</td>\n",
       "      <td>41.388</td>\n",
       "      <td>-81.974</td>\n",
       "      <td>2</td>\n",
       "      <td>9</td>\n",
       "      <td>7</td>\n",
       "      <td>0.420792</td>\n",
       "      <td>41.391666</td>\n",
       "      <td>-81.96753</td>\n",
       "      <td>506</td>\n",
       "    </tr>\n",
       "    <tr>\n",
       "      <th>4</th>\n",
       "      <td>4</td>\n",
       "      <td>13189</td>\n",
       "      <td>41.389</td>\n",
       "      <td>-81.974</td>\n",
       "      <td>2</td>\n",
       "      <td>9</td>\n",
       "      <td>7</td>\n",
       "      <td>0.383287</td>\n",
       "      <td>41.391666</td>\n",
       "      <td>-81.96753</td>\n",
       "      <td>459</td>\n",
       "    </tr>\n",
       "    <tr>\n",
       "      <th>5</th>\n",
       "      <td>5</td>\n",
       "      <td>13190</td>\n",
       "      <td>41.390</td>\n",
       "      <td>-81.974</td>\n",
       "      <td>2</td>\n",
       "      <td>9</td>\n",
       "      <td>7</td>\n",
       "      <td>0.355353</td>\n",
       "      <td>41.391666</td>\n",
       "      <td>-81.96753</td>\n",
       "      <td>1492</td>\n",
       "    </tr>\n",
       "    <tr>\n",
       "      <th>6</th>\n",
       "      <td>6</td>\n",
       "      <td>13191</td>\n",
       "      <td>41.391</td>\n",
       "      <td>-81.974</td>\n",
       "      <td>2</td>\n",
       "      <td>9</td>\n",
       "      <td>7</td>\n",
       "      <td>0.339365</td>\n",
       "      <td>41.391666</td>\n",
       "      <td>-81.96753</td>\n",
       "      <td>1498</td>\n",
       "    </tr>\n",
       "    <tr>\n",
       "      <th>7</th>\n",
       "      <td>7</td>\n",
       "      <td>13192</td>\n",
       "      <td>41.392</td>\n",
       "      <td>-81.974</td>\n",
       "      <td>2</td>\n",
       "      <td>9</td>\n",
       "      <td>7</td>\n",
       "      <td>0.337024</td>\n",
       "      <td>41.391666</td>\n",
       "      <td>-81.96753</td>\n",
       "      <td>1504</td>\n",
       "    </tr>\n",
       "    <tr>\n",
       "      <th>8</th>\n",
       "      <td>8</td>\n",
       "      <td>13193</td>\n",
       "      <td>41.393</td>\n",
       "      <td>-81.974</td>\n",
       "      <td>2</td>\n",
       "      <td>9</td>\n",
       "      <td>7</td>\n",
       "      <td>0.348608</td>\n",
       "      <td>41.391666</td>\n",
       "      <td>-81.96753</td>\n",
       "      <td>1672</td>\n",
       "    </tr>\n",
       "    <tr>\n",
       "      <th>9</th>\n",
       "      <td>9</td>\n",
       "      <td>13194</td>\n",
       "      <td>41.394</td>\n",
       "      <td>-81.974</td>\n",
       "      <td>2</td>\n",
       "      <td>9</td>\n",
       "      <td>7</td>\n",
       "      <td>0.372819</td>\n",
       "      <td>41.391666</td>\n",
       "      <td>-81.96753</td>\n",
       "      <td>1725</td>\n",
       "    </tr>\n",
       "  </tbody>\n",
       "</table>\n",
       "</div>"
      ],
      "text/plain": [
       "   Unnamed: 0  Unnamed: 0.1  addr_lat  addr_lon  surrounding_stops  \\\n",
       "0           0         13185    41.385   -81.974                  2   \n",
       "1           1         13186    41.386   -81.974                  2   \n",
       "2           2         13187    41.387   -81.974                  2   \n",
       "3           3         13188    41.388   -81.974                  2   \n",
       "4           4         13189    41.389   -81.974                  2   \n",
       "5           5         13190    41.390   -81.974                  2   \n",
       "6           6         13191    41.391   -81.974                  2   \n",
       "7           7         13192    41.392   -81.974                  2   \n",
       "8           8         13193    41.393   -81.974                  2   \n",
       "9           9         13194    41.394   -81.974                  2   \n",
       "\n",
       "   surrounding_stops_a_mile  subtraction  distance   stop_lat  stop_lon  \\\n",
       "0                         9            7  0.569814  41.391666 -81.96753   \n",
       "1                         9            7  0.515709  41.391666 -81.96753   \n",
       "2                         9            7  0.465562  41.391666 -81.96753   \n",
       "3                         9            7  0.420792  41.391666 -81.96753   \n",
       "4                         9            7  0.383287  41.391666 -81.96753   \n",
       "5                         9            7  0.355353  41.391666 -81.96753   \n",
       "6                         9            7  0.339365  41.391666 -81.96753   \n",
       "7                         9            7  0.337024  41.391666 -81.96753   \n",
       "8                         9            7  0.348608  41.391666 -81.96753   \n",
       "9                         9            7  0.372819  41.391666 -81.96753   \n",
       "\n",
       "   walking_time  \n",
       "0           985  \n",
       "1           618  \n",
       "2           562  \n",
       "3           506  \n",
       "4           459  \n",
       "5          1492  \n",
       "6          1498  \n",
       "7          1504  \n",
       "8          1672  \n",
       "9          1725  "
      ]
     },
     "execution_count": 25,
     "metadata": {},
     "output_type": "execute_result"
    }
   ],
   "source": [
    "df\n"
   ]
  },
  {
   "cell_type": "code",
   "execution_count": 26,
   "metadata": {
    "collapsed": false
   },
   "outputs": [
    {
     "name": "stderr",
     "output_type": "stream",
     "text": [
      "//anaconda/lib/python3.4/site-packages/ipykernel/__main__.py:1: SettingWithCopyWarning: \n",
      "A value is trying to be set on a copy of a slice from a DataFrame.\n",
      "Try using .loc[row_indexer,col_indexer] = value instead\n",
      "\n",
      "See the caveats in the documentation: http://pandas.pydata.org/pandas-docs/stable/indexing.html#indexing-view-versus-copy\n",
      "  if __name__ == '__main__':\n"
     ]
    }
   ],
   "source": [
    "df['DistanceOverTime']= df.distance/df.walking_time"
   ]
  },
  {
   "cell_type": "code",
   "execution_count": 27,
   "metadata": {
    "collapsed": false
   },
   "outputs": [
    {
     "data": {
      "text/html": [
       "<div>\n",
       "<table border=\"1\" class=\"dataframe\">\n",
       "  <thead>\n",
       "    <tr style=\"text-align: right;\">\n",
       "      <th></th>\n",
       "      <th>Unnamed: 0</th>\n",
       "      <th>Unnamed: 0.1</th>\n",
       "      <th>addr_lat</th>\n",
       "      <th>addr_lon</th>\n",
       "      <th>surrounding_stops</th>\n",
       "      <th>surrounding_stops_a_mile</th>\n",
       "      <th>subtraction</th>\n",
       "      <th>distance</th>\n",
       "      <th>stop_lat</th>\n",
       "      <th>stop_lon</th>\n",
       "      <th>walking_time</th>\n",
       "      <th>DistanceOverTime</th>\n",
       "    </tr>\n",
       "  </thead>\n",
       "  <tbody>\n",
       "    <tr>\n",
       "      <th>0</th>\n",
       "      <td>0</td>\n",
       "      <td>13185</td>\n",
       "      <td>41.385</td>\n",
       "      <td>-81.974</td>\n",
       "      <td>2</td>\n",
       "      <td>9</td>\n",
       "      <td>7</td>\n",
       "      <td>0.569814</td>\n",
       "      <td>41.391666</td>\n",
       "      <td>-81.96753</td>\n",
       "      <td>985</td>\n",
       "      <td>0.000578</td>\n",
       "    </tr>\n",
       "    <tr>\n",
       "      <th>1</th>\n",
       "      <td>1</td>\n",
       "      <td>13186</td>\n",
       "      <td>41.386</td>\n",
       "      <td>-81.974</td>\n",
       "      <td>2</td>\n",
       "      <td>9</td>\n",
       "      <td>7</td>\n",
       "      <td>0.515709</td>\n",
       "      <td>41.391666</td>\n",
       "      <td>-81.96753</td>\n",
       "      <td>618</td>\n",
       "      <td>0.000834</td>\n",
       "    </tr>\n",
       "    <tr>\n",
       "      <th>2</th>\n",
       "      <td>2</td>\n",
       "      <td>13187</td>\n",
       "      <td>41.387</td>\n",
       "      <td>-81.974</td>\n",
       "      <td>2</td>\n",
       "      <td>9</td>\n",
       "      <td>7</td>\n",
       "      <td>0.465562</td>\n",
       "      <td>41.391666</td>\n",
       "      <td>-81.96753</td>\n",
       "      <td>562</td>\n",
       "      <td>0.000828</td>\n",
       "    </tr>\n",
       "    <tr>\n",
       "      <th>3</th>\n",
       "      <td>3</td>\n",
       "      <td>13188</td>\n",
       "      <td>41.388</td>\n",
       "      <td>-81.974</td>\n",
       "      <td>2</td>\n",
       "      <td>9</td>\n",
       "      <td>7</td>\n",
       "      <td>0.420792</td>\n",
       "      <td>41.391666</td>\n",
       "      <td>-81.96753</td>\n",
       "      <td>506</td>\n",
       "      <td>0.000832</td>\n",
       "    </tr>\n",
       "    <tr>\n",
       "      <th>4</th>\n",
       "      <td>4</td>\n",
       "      <td>13189</td>\n",
       "      <td>41.389</td>\n",
       "      <td>-81.974</td>\n",
       "      <td>2</td>\n",
       "      <td>9</td>\n",
       "      <td>7</td>\n",
       "      <td>0.383287</td>\n",
       "      <td>41.391666</td>\n",
       "      <td>-81.96753</td>\n",
       "      <td>459</td>\n",
       "      <td>0.000835</td>\n",
       "    </tr>\n",
       "    <tr>\n",
       "      <th>5</th>\n",
       "      <td>5</td>\n",
       "      <td>13190</td>\n",
       "      <td>41.390</td>\n",
       "      <td>-81.974</td>\n",
       "      <td>2</td>\n",
       "      <td>9</td>\n",
       "      <td>7</td>\n",
       "      <td>0.355353</td>\n",
       "      <td>41.391666</td>\n",
       "      <td>-81.96753</td>\n",
       "      <td>1492</td>\n",
       "      <td>0.000238</td>\n",
       "    </tr>\n",
       "    <tr>\n",
       "      <th>6</th>\n",
       "      <td>6</td>\n",
       "      <td>13191</td>\n",
       "      <td>41.391</td>\n",
       "      <td>-81.974</td>\n",
       "      <td>2</td>\n",
       "      <td>9</td>\n",
       "      <td>7</td>\n",
       "      <td>0.339365</td>\n",
       "      <td>41.391666</td>\n",
       "      <td>-81.96753</td>\n",
       "      <td>1498</td>\n",
       "      <td>0.000227</td>\n",
       "    </tr>\n",
       "    <tr>\n",
       "      <th>7</th>\n",
       "      <td>7</td>\n",
       "      <td>13192</td>\n",
       "      <td>41.392</td>\n",
       "      <td>-81.974</td>\n",
       "      <td>2</td>\n",
       "      <td>9</td>\n",
       "      <td>7</td>\n",
       "      <td>0.337024</td>\n",
       "      <td>41.391666</td>\n",
       "      <td>-81.96753</td>\n",
       "      <td>1504</td>\n",
       "      <td>0.000224</td>\n",
       "    </tr>\n",
       "    <tr>\n",
       "      <th>8</th>\n",
       "      <td>8</td>\n",
       "      <td>13193</td>\n",
       "      <td>41.393</td>\n",
       "      <td>-81.974</td>\n",
       "      <td>2</td>\n",
       "      <td>9</td>\n",
       "      <td>7</td>\n",
       "      <td>0.348608</td>\n",
       "      <td>41.391666</td>\n",
       "      <td>-81.96753</td>\n",
       "      <td>1672</td>\n",
       "      <td>0.000208</td>\n",
       "    </tr>\n",
       "    <tr>\n",
       "      <th>9</th>\n",
       "      <td>9</td>\n",
       "      <td>13194</td>\n",
       "      <td>41.394</td>\n",
       "      <td>-81.974</td>\n",
       "      <td>2</td>\n",
       "      <td>9</td>\n",
       "      <td>7</td>\n",
       "      <td>0.372819</td>\n",
       "      <td>41.391666</td>\n",
       "      <td>-81.96753</td>\n",
       "      <td>1725</td>\n",
       "      <td>0.000216</td>\n",
       "    </tr>\n",
       "  </tbody>\n",
       "</table>\n",
       "</div>"
      ],
      "text/plain": [
       "   Unnamed: 0  Unnamed: 0.1  addr_lat  addr_lon  surrounding_stops  \\\n",
       "0           0         13185    41.385   -81.974                  2   \n",
       "1           1         13186    41.386   -81.974                  2   \n",
       "2           2         13187    41.387   -81.974                  2   \n",
       "3           3         13188    41.388   -81.974                  2   \n",
       "4           4         13189    41.389   -81.974                  2   \n",
       "5           5         13190    41.390   -81.974                  2   \n",
       "6           6         13191    41.391   -81.974                  2   \n",
       "7           7         13192    41.392   -81.974                  2   \n",
       "8           8         13193    41.393   -81.974                  2   \n",
       "9           9         13194    41.394   -81.974                  2   \n",
       "\n",
       "   surrounding_stops_a_mile  subtraction  distance   stop_lat  stop_lon  \\\n",
       "0                         9            7  0.569814  41.391666 -81.96753   \n",
       "1                         9            7  0.515709  41.391666 -81.96753   \n",
       "2                         9            7  0.465562  41.391666 -81.96753   \n",
       "3                         9            7  0.420792  41.391666 -81.96753   \n",
       "4                         9            7  0.383287  41.391666 -81.96753   \n",
       "5                         9            7  0.355353  41.391666 -81.96753   \n",
       "6                         9            7  0.339365  41.391666 -81.96753   \n",
       "7                         9            7  0.337024  41.391666 -81.96753   \n",
       "8                         9            7  0.348608  41.391666 -81.96753   \n",
       "9                         9            7  0.372819  41.391666 -81.96753   \n",
       "\n",
       "   walking_time  DistanceOverTime  \n",
       "0           985          0.000578  \n",
       "1           618          0.000834  \n",
       "2           562          0.000828  \n",
       "3           506          0.000832  \n",
       "4           459          0.000835  \n",
       "5          1492          0.000238  \n",
       "6          1498          0.000227  \n",
       "7          1504          0.000224  \n",
       "8          1672          0.000208  \n",
       "9          1725          0.000216  "
      ]
     },
     "execution_count": 27,
     "metadata": {},
     "output_type": "execute_result"
    }
   ],
   "source": [
    "df"
   ]
  },
  {
   "cell_type": "code",
   "execution_count": null,
   "metadata": {
    "collapsed": true
   },
   "outputs": [],
   "source": []
  }
 ],
 "metadata": {
  "kernelspec": {
   "display_name": "Python 3",
   "language": "python",
   "name": "python3"
  },
  "language_info": {
   "codemirror_mode": {
    "name": "ipython",
    "version": 3
   },
   "file_extension": ".py",
   "mimetype": "text/x-python",
   "name": "python",
   "nbconvert_exporter": "python",
   "pygments_lexer": "ipython3",
   "version": "3.4.3"
  }
 },
 "nbformat": 4,
 "nbformat_minor": 0
}
